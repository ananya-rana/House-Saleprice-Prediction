{
  "metadata": {
    "kernelspec": {
      "language": "python",
      "display_name": "Python 3",
      "name": "python3"
    },
    "language_info": {
      "name": "python",
      "version": "3.7.12",
      "mimetype": "text/x-python",
      "codemirror_mode": {
        "name": "ipython",
        "version": 3
      },
      "pygments_lexer": "ipython3",
      "nbconvert_exporter": "python",
      "file_extension": ".py"
    },
    "colab": {
      "provenance": []
    }
  },
  "nbformat_minor": 0,
  "nbformat": 4,
  "cells": [
    {
      "cell_type": "markdown",
      "source": [
        "#Data description"
      ],
      "metadata": {
        "id": "rTyg8xhs4G5S"
      }
    },
    {
      "cell_type": "markdown",
      "source": [
        "##Data fields\n",
        "\n",
        "Here's a brief version of what you'll find in the data description file.\n",
        "\n",
        "SalePrice - the property's sale price in dollars. This is the target variable that you're trying to predict.<br>\n",
        "MSSubClass: The building class<br>\n",
        "MSZoning: The general zoning classification<br>\n",
        "LotFrontage: Linear feet of street connected to property<br>\n",
        "LotArea: Lot size in square feet<br>\n",
        "Street: Type of road access<br>\n",
        "Alley: Type of alley access<br>\n",
        "LotShape: General shape of property<br>\n",
        "LandContour: Flatness of the property<br>\n",
        "Utilities: Type of utilities available<br>\n",
        "LotConfig: Lot configuration<br>\n",
        "LandSlope: Slope of property<br>\n",
        "Neighborhood: Physical locations within Ames city limits<br>\n",
        "Condition1: Proximity to main road or railroad<br>\n",
        "Condition2: Proximity to main road or railroad (if a second is present)<br>\n",
        "BldgType: Type of dwelling<br>\n",
        "HouseStyle: Style of dwelling<br>\n",
        "OverallQual: Overall material and finish quality<br>\n",
        "OverallCond: Overall condition rating<br>\n",
        "YearBuilt: Original construction date<br>\n",
        "YearRemodAdd: Remodel date<br>\n",
        "RoofStyle: Type of roof<br>\n",
        "RoofMatl: Roof material<br>\n",
        "Exterior1st: Exterior covering on house<br>\n",
        "Exterior2nd: Exterior covering on house (if more than one material)<br>\n",
        "MasVnrType: Masonry veneer type<br>\n",
        "MasVnrArea: Masonry veneer area in square feet<br>\n",
        "ExterQual: Exterior material quality<br>\n",
        "ExterCond: Present condition of the material on the exterior<br>\n",
        "Foundation: Type of foundation<br>\n",
        "BsmtQual: Height of the basement<br>\n",
        "BsmtCond: General condition of the basement<br>\n",
        "BsmtExposure: Walkout or garden level basement walls<br>\n",
        "BsmtFinType1: Quality of basement finished area<br>\n",
        "BsmtFinSF1: Type 1 finished square feet<br>\n",
        "BsmtFinType2: Quality of second finished area (if present)<br>\n",
        "BsmtFinSF2: Type 2 finished square feet<br>\n",
        "BsmtUnfSF: Unfinished square feet of basement area<br>\n",
        "TotalBsmtSF: Total square feet of basement area<br>\n",
        "Heating: Type of heating<br>\n",
        "HeatingQC: Heating quality and condition<br>\n",
        "CentralAir: Central air conditioning<br>\n",
        "Electrical: Electrical system<br>\n",
        "1stFlrSF: First Floor square feet<br>\n",
        "2ndFlrSF: Second floor square feet<br>\n",
        "LowQualFinSF: Low quality finished square feet (all floors)<br>\n",
        "GrLivArea: Above grade (ground) living area square feet<br>\n",
        "BsmtFullBath: Basement full bathrooms<br>\n",
        "BsmtHalfBath: Basement half bathrooms<br>\n",
        "FullBath: Full bathrooms above grade<br>\n",
        "HalfBath: Half baths above grade<br>\n",
        "Bedroom: Number of bedrooms above basement level<br>\n",
        "Kitchen: Number of kitchens<br>\n",
        "KitchenQual: Kitchen quality<br>\n",
        "TotRmsAbvGrd: Total rooms above grade (does not include bathrooms)<br>\n",
        "Functional: Home functionality rating<br>\n",
        "Fireplaces: Number of fireplaces<br>\n",
        "FireplaceQu: Fireplace quality<br>\n",
        "GarageType: Garage location<br>\n",
        "GarageYrBlt: Year garage was built<br>\n",
        "GarageFinish: Interior finish of the garage<br>\n",
        "GarageCars: Size of garage in car capacity<br>\n",
        "GarageArea: Size of garage in square feet<br>\n",
        "GarageQual: Garage quality<br>\n",
        "GarageCond: Garage condition<br>\n",
        "PavedDrive: Paved driveway<br>\n",
        "WoodDeckSF: Wood deck area in square feet<br>\n",
        "OpenPorchSF: Open porch area in square feet<br>\n",
        "EnclosedPorch: Enclosed porch area in square feet<br>\n",
        "3SsnPorch: Three season porch area in square feet<br>\n",
        "ScreenPorch: Screen porch area in square feet<br>\n",
        "PoolArea: Pool area in square feet<br>\n",
        "PoolQC: Pool quality<br>\n",
        "Fence: Fence quality<br>\n",
        "MiscFeature: Miscellaneous feature not covered in other categories<br>\n",
        "MiscVal: $Value of miscellaneous feature<br>\n",
        "MoSold: Month Sold<br>\n",
        "YrSold: Year Sold<br>\n",
        "SaleType: Type of sale<br>\n",
        "SaleCondition: Condition of sale<br>"
      ],
      "metadata": {
        "id": "zj5EACdO4LDw"
      }
    },
    {
      "cell_type": "code",
      "source": [
        "from google.colab import drive\n",
        "drive.mount('/content/drive')"
      ],
      "metadata": {
        "colab": {
          "base_uri": "https://localhost:8080/"
        },
        "id": "dwg2HQoaqMzk",
        "outputId": "8107c94c-26c1-4fe3-90cf-246995f4f43a"
      },
      "execution_count": 2,
      "outputs": [
        {
          "output_type": "stream",
          "name": "stdout",
          "text": [
            "Drive already mounted at /content/drive; to attempt to forcibly remount, call drive.mount(\"/content/drive\", force_remount=True).\n"
          ]
        }
      ]
    },
    {
      "cell_type": "code",
      "source": [
        "import os\n",
        "os.environ['KAGGLE_CONFIG_DIR'] = \"/content/drive/My Drive/Kaggle\"\n",
        "# /content/drive/My Drive/Kaggle is the path where kaggle.json is present in the Google Drive"
      ],
      "metadata": {
        "id": "DfBfwBHgqNV0"
      },
      "execution_count": 3,
      "outputs": []
    },
    {
      "cell_type": "code",
      "source": [
        "#changing the working directory\n",
        "%cd /content/drive/My Drive/Kaggle"
      ],
      "metadata": {
        "colab": {
          "base_uri": "https://localhost:8080/"
        },
        "id": "wwsGcOt9qRSB",
        "outputId": "adb56f4a-a89e-467d-d8ad-dbfd09140ae9"
      },
      "execution_count": 4,
      "outputs": [
        {
          "output_type": "stream",
          "name": "stdout",
          "text": [
            "/content/drive/My Drive/Kaggle\n"
          ]
        }
      ]
    },
    {
      "cell_type": "code",
      "source": [
        " !kaggle competitions download house-prices-advanced-regression-techniques"
      ],
      "metadata": {
        "colab": {
          "base_uri": "https://localhost:8080/"
        },
        "id": "c0sk234rqR6w",
        "outputId": "7952dec2-c4ee-4ddb-b22d-541ccb8bc187"
      },
      "execution_count": 5,
      "outputs": [
        {
          "output_type": "stream",
          "name": "stdout",
          "text": [
            "house-prices-advanced-regression-techniques.zip: Skipping, found more recently modified local copy (use --force to force download)\n"
          ]
        }
      ]
    },
    {
      "cell_type": "code",
      "source": [
        "!unzip house-prices-advanced-regression-techniques.zip"
      ],
      "metadata": {
        "colab": {
          "base_uri": "https://localhost:8080/"
        },
        "id": "h7ypnNdjrrIz",
        "outputId": "56ea8787-899d-4c6a-d761-0e1b2dadf096"
      },
      "execution_count": 6,
      "outputs": [
        {
          "output_type": "stream",
          "name": "stdout",
          "text": [
            "Archive:  house-prices-advanced-regression-techniques.zip\n",
            "replace data_description.txt? [y]es, [n]o, [A]ll, [N]one, [r]ename: no\n",
            "replace sample_submission.csv? [y]es, [n]o, [A]ll, [N]one, [r]ename: no\n",
            "replace test.csv? [y]es, [n]o, [A]ll, [N]one, [r]ename: no\n",
            "replace train.csv? [y]es, [n]o, [A]ll, [N]one, [r]ename: no\n"
          ]
        }
      ]
    },
    {
      "cell_type": "code",
      "source": [
        "import numpy as np # linear algebra\n",
        "import pandas as pd # data processing, CSV file I/O (e.g. pd.read_csv)"
      ],
      "metadata": {
        "_uuid": "8f2839f25d086af736a60e9eeb907d3b93b6e0e5",
        "_cell_guid": "b1076dfc-b9ad-4769-8c92-a6c4dae69d19",
        "execution": {
          "iopub.status.busy": "2022-11-13T21:46:34.889868Z",
          "iopub.execute_input": "2022-11-13T21:46:34.890249Z",
          "iopub.status.idle": "2022-11-13T21:46:34.904402Z",
          "shell.execute_reply.started": "2022-11-13T21:46:34.890216Z",
          "shell.execute_reply": "2022-11-13T21:46:34.903198Z"
        },
        "trusted": true,
        "id": "jFg5oV3zeaOr"
      },
      "execution_count": 7,
      "outputs": []
    },
    {
      "cell_type": "code",
      "source": [
        "import seaborn as sns\n",
        "import matplotlib.pyplot as plt"
      ],
      "metadata": {
        "execution": {
          "iopub.status.busy": "2022-11-13T21:46:34.906650Z",
          "iopub.execute_input": "2022-11-13T21:46:34.907771Z",
          "iopub.status.idle": "2022-11-13T21:46:34.913143Z",
          "shell.execute_reply.started": "2022-11-13T21:46:34.907653Z",
          "shell.execute_reply": "2022-11-13T21:46:34.912000Z"
        },
        "trusted": true,
        "id": "cWnrXJaEeaOs"
      },
      "execution_count": 8,
      "outputs": []
    },
    {
      "cell_type": "code",
      "source": [
        "df = pd.read_csv('/content/drive/MyDrive/Kaggle/train.csv')"
      ],
      "metadata": {
        "execution": {
          "iopub.status.busy": "2022-11-13T21:46:34.914550Z",
          "iopub.execute_input": "2022-11-13T21:46:34.915613Z",
          "iopub.status.idle": "2022-11-13T21:46:34.953215Z",
          "shell.execute_reply.started": "2022-11-13T21:46:34.915568Z",
          "shell.execute_reply": "2022-11-13T21:46:34.951947Z"
        },
        "trusted": true,
        "id": "XR3JWCvreaOt"
      },
      "execution_count": 106,
      "outputs": []
    },
    {
      "cell_type": "code",
      "source": [
        "df.head()"
      ],
      "metadata": {
        "execution": {
          "iopub.status.busy": "2022-11-13T21:46:34.956056Z",
          "iopub.execute_input": "2022-11-13T21:46:34.956378Z",
          "iopub.status.idle": "2022-11-13T21:46:34.983177Z",
          "shell.execute_reply.started": "2022-11-13T21:46:34.956348Z",
          "shell.execute_reply": "2022-11-13T21:46:34.982127Z"
        },
        "trusted": true,
        "id": "uFosNukweaOt",
        "outputId": "0389b266-38f4-4fb1-8fc8-b2a6d0213bcd",
        "colab": {
          "base_uri": "https://localhost:8080/",
          "height": 299
        }
      },
      "execution_count": 107,
      "outputs": [
        {
          "output_type": "execute_result",
          "data": {
            "text/plain": [
              "   Id  MSSubClass MSZoning  LotFrontage  LotArea Street Alley LotShape  \\\n",
              "0   1          60       RL         65.0     8450   Pave   NaN      Reg   \n",
              "1   2          20       RL         80.0     9600   Pave   NaN      Reg   \n",
              "2   3          60       RL         68.0    11250   Pave   NaN      IR1   \n",
              "3   4          70       RL         60.0     9550   Pave   NaN      IR1   \n",
              "4   5          60       RL         84.0    14260   Pave   NaN      IR1   \n",
              "\n",
              "  LandContour Utilities  ... PoolArea PoolQC Fence MiscFeature MiscVal MoSold  \\\n",
              "0         Lvl    AllPub  ...        0    NaN   NaN         NaN       0      2   \n",
              "1         Lvl    AllPub  ...        0    NaN   NaN         NaN       0      5   \n",
              "2         Lvl    AllPub  ...        0    NaN   NaN         NaN       0      9   \n",
              "3         Lvl    AllPub  ...        0    NaN   NaN         NaN       0      2   \n",
              "4         Lvl    AllPub  ...        0    NaN   NaN         NaN       0     12   \n",
              "\n",
              "  YrSold  SaleType  SaleCondition  SalePrice  \n",
              "0   2008        WD         Normal     208500  \n",
              "1   2007        WD         Normal     181500  \n",
              "2   2008        WD         Normal     223500  \n",
              "3   2006        WD        Abnorml     140000  \n",
              "4   2008        WD         Normal     250000  \n",
              "\n",
              "[5 rows x 81 columns]"
            ],
            "text/html": [
              "\n",
              "  <div id=\"df-9e53770c-a59c-4586-ad8e-3c3241d1bae9\">\n",
              "    <div class=\"colab-df-container\">\n",
              "      <div>\n",
              "<style scoped>\n",
              "    .dataframe tbody tr th:only-of-type {\n",
              "        vertical-align: middle;\n",
              "    }\n",
              "\n",
              "    .dataframe tbody tr th {\n",
              "        vertical-align: top;\n",
              "    }\n",
              "\n",
              "    .dataframe thead th {\n",
              "        text-align: right;\n",
              "    }\n",
              "</style>\n",
              "<table border=\"1\" class=\"dataframe\">\n",
              "  <thead>\n",
              "    <tr style=\"text-align: right;\">\n",
              "      <th></th>\n",
              "      <th>Id</th>\n",
              "      <th>MSSubClass</th>\n",
              "      <th>MSZoning</th>\n",
              "      <th>LotFrontage</th>\n",
              "      <th>LotArea</th>\n",
              "      <th>Street</th>\n",
              "      <th>Alley</th>\n",
              "      <th>LotShape</th>\n",
              "      <th>LandContour</th>\n",
              "      <th>Utilities</th>\n",
              "      <th>...</th>\n",
              "      <th>PoolArea</th>\n",
              "      <th>PoolQC</th>\n",
              "      <th>Fence</th>\n",
              "      <th>MiscFeature</th>\n",
              "      <th>MiscVal</th>\n",
              "      <th>MoSold</th>\n",
              "      <th>YrSold</th>\n",
              "      <th>SaleType</th>\n",
              "      <th>SaleCondition</th>\n",
              "      <th>SalePrice</th>\n",
              "    </tr>\n",
              "  </thead>\n",
              "  <tbody>\n",
              "    <tr>\n",
              "      <th>0</th>\n",
              "      <td>1</td>\n",
              "      <td>60</td>\n",
              "      <td>RL</td>\n",
              "      <td>65.0</td>\n",
              "      <td>8450</td>\n",
              "      <td>Pave</td>\n",
              "      <td>NaN</td>\n",
              "      <td>Reg</td>\n",
              "      <td>Lvl</td>\n",
              "      <td>AllPub</td>\n",
              "      <td>...</td>\n",
              "      <td>0</td>\n",
              "      <td>NaN</td>\n",
              "      <td>NaN</td>\n",
              "      <td>NaN</td>\n",
              "      <td>0</td>\n",
              "      <td>2</td>\n",
              "      <td>2008</td>\n",
              "      <td>WD</td>\n",
              "      <td>Normal</td>\n",
              "      <td>208500</td>\n",
              "    </tr>\n",
              "    <tr>\n",
              "      <th>1</th>\n",
              "      <td>2</td>\n",
              "      <td>20</td>\n",
              "      <td>RL</td>\n",
              "      <td>80.0</td>\n",
              "      <td>9600</td>\n",
              "      <td>Pave</td>\n",
              "      <td>NaN</td>\n",
              "      <td>Reg</td>\n",
              "      <td>Lvl</td>\n",
              "      <td>AllPub</td>\n",
              "      <td>...</td>\n",
              "      <td>0</td>\n",
              "      <td>NaN</td>\n",
              "      <td>NaN</td>\n",
              "      <td>NaN</td>\n",
              "      <td>0</td>\n",
              "      <td>5</td>\n",
              "      <td>2007</td>\n",
              "      <td>WD</td>\n",
              "      <td>Normal</td>\n",
              "      <td>181500</td>\n",
              "    </tr>\n",
              "    <tr>\n",
              "      <th>2</th>\n",
              "      <td>3</td>\n",
              "      <td>60</td>\n",
              "      <td>RL</td>\n",
              "      <td>68.0</td>\n",
              "      <td>11250</td>\n",
              "      <td>Pave</td>\n",
              "      <td>NaN</td>\n",
              "      <td>IR1</td>\n",
              "      <td>Lvl</td>\n",
              "      <td>AllPub</td>\n",
              "      <td>...</td>\n",
              "      <td>0</td>\n",
              "      <td>NaN</td>\n",
              "      <td>NaN</td>\n",
              "      <td>NaN</td>\n",
              "      <td>0</td>\n",
              "      <td>9</td>\n",
              "      <td>2008</td>\n",
              "      <td>WD</td>\n",
              "      <td>Normal</td>\n",
              "      <td>223500</td>\n",
              "    </tr>\n",
              "    <tr>\n",
              "      <th>3</th>\n",
              "      <td>4</td>\n",
              "      <td>70</td>\n",
              "      <td>RL</td>\n",
              "      <td>60.0</td>\n",
              "      <td>9550</td>\n",
              "      <td>Pave</td>\n",
              "      <td>NaN</td>\n",
              "      <td>IR1</td>\n",
              "      <td>Lvl</td>\n",
              "      <td>AllPub</td>\n",
              "      <td>...</td>\n",
              "      <td>0</td>\n",
              "      <td>NaN</td>\n",
              "      <td>NaN</td>\n",
              "      <td>NaN</td>\n",
              "      <td>0</td>\n",
              "      <td>2</td>\n",
              "      <td>2006</td>\n",
              "      <td>WD</td>\n",
              "      <td>Abnorml</td>\n",
              "      <td>140000</td>\n",
              "    </tr>\n",
              "    <tr>\n",
              "      <th>4</th>\n",
              "      <td>5</td>\n",
              "      <td>60</td>\n",
              "      <td>RL</td>\n",
              "      <td>84.0</td>\n",
              "      <td>14260</td>\n",
              "      <td>Pave</td>\n",
              "      <td>NaN</td>\n",
              "      <td>IR1</td>\n",
              "      <td>Lvl</td>\n",
              "      <td>AllPub</td>\n",
              "      <td>...</td>\n",
              "      <td>0</td>\n",
              "      <td>NaN</td>\n",
              "      <td>NaN</td>\n",
              "      <td>NaN</td>\n",
              "      <td>0</td>\n",
              "      <td>12</td>\n",
              "      <td>2008</td>\n",
              "      <td>WD</td>\n",
              "      <td>Normal</td>\n",
              "      <td>250000</td>\n",
              "    </tr>\n",
              "  </tbody>\n",
              "</table>\n",
              "<p>5 rows × 81 columns</p>\n",
              "</div>\n",
              "      <button class=\"colab-df-convert\" onclick=\"convertToInteractive('df-9e53770c-a59c-4586-ad8e-3c3241d1bae9')\"\n",
              "              title=\"Convert this dataframe to an interactive table.\"\n",
              "              style=\"display:none;\">\n",
              "        \n",
              "  <svg xmlns=\"http://www.w3.org/2000/svg\" height=\"24px\"viewBox=\"0 0 24 24\"\n",
              "       width=\"24px\">\n",
              "    <path d=\"M0 0h24v24H0V0z\" fill=\"none\"/>\n",
              "    <path d=\"M18.56 5.44l.94 2.06.94-2.06 2.06-.94-2.06-.94-.94-2.06-.94 2.06-2.06.94zm-11 1L8.5 8.5l.94-2.06 2.06-.94-2.06-.94L8.5 2.5l-.94 2.06-2.06.94zm10 10l.94 2.06.94-2.06 2.06-.94-2.06-.94-.94-2.06-.94 2.06-2.06.94z\"/><path d=\"M17.41 7.96l-1.37-1.37c-.4-.4-.92-.59-1.43-.59-.52 0-1.04.2-1.43.59L10.3 9.45l-7.72 7.72c-.78.78-.78 2.05 0 2.83L4 21.41c.39.39.9.59 1.41.59.51 0 1.02-.2 1.41-.59l7.78-7.78 2.81-2.81c.8-.78.8-2.07 0-2.86zM5.41 20L4 18.59l7.72-7.72 1.47 1.35L5.41 20z\"/>\n",
              "  </svg>\n",
              "      </button>\n",
              "      \n",
              "  <style>\n",
              "    .colab-df-container {\n",
              "      display:flex;\n",
              "      flex-wrap:wrap;\n",
              "      gap: 12px;\n",
              "    }\n",
              "\n",
              "    .colab-df-convert {\n",
              "      background-color: #E8F0FE;\n",
              "      border: none;\n",
              "      border-radius: 50%;\n",
              "      cursor: pointer;\n",
              "      display: none;\n",
              "      fill: #1967D2;\n",
              "      height: 32px;\n",
              "      padding: 0 0 0 0;\n",
              "      width: 32px;\n",
              "    }\n",
              "\n",
              "    .colab-df-convert:hover {\n",
              "      background-color: #E2EBFA;\n",
              "      box-shadow: 0px 1px 2px rgba(60, 64, 67, 0.3), 0px 1px 3px 1px rgba(60, 64, 67, 0.15);\n",
              "      fill: #174EA6;\n",
              "    }\n",
              "\n",
              "    [theme=dark] .colab-df-convert {\n",
              "      background-color: #3B4455;\n",
              "      fill: #D2E3FC;\n",
              "    }\n",
              "\n",
              "    [theme=dark] .colab-df-convert:hover {\n",
              "      background-color: #434B5C;\n",
              "      box-shadow: 0px 1px 3px 1px rgba(0, 0, 0, 0.15);\n",
              "      filter: drop-shadow(0px 1px 2px rgba(0, 0, 0, 0.3));\n",
              "      fill: #FFFFFF;\n",
              "    }\n",
              "  </style>\n",
              "\n",
              "      <script>\n",
              "        const buttonEl =\n",
              "          document.querySelector('#df-9e53770c-a59c-4586-ad8e-3c3241d1bae9 button.colab-df-convert');\n",
              "        buttonEl.style.display =\n",
              "          google.colab.kernel.accessAllowed ? 'block' : 'none';\n",
              "\n",
              "        async function convertToInteractive(key) {\n",
              "          const element = document.querySelector('#df-9e53770c-a59c-4586-ad8e-3c3241d1bae9');\n",
              "          const dataTable =\n",
              "            await google.colab.kernel.invokeFunction('convertToInteractive',\n",
              "                                                     [key], {});\n",
              "          if (!dataTable) return;\n",
              "\n",
              "          const docLinkHtml = 'Like what you see? Visit the ' +\n",
              "            '<a target=\"_blank\" href=https://colab.research.google.com/notebooks/data_table.ipynb>data table notebook</a>'\n",
              "            + ' to learn more about interactive tables.';\n",
              "          element.innerHTML = '';\n",
              "          dataTable['output_type'] = 'display_data';\n",
              "          await google.colab.output.renderOutput(dataTable, element);\n",
              "          const docLink = document.createElement('div');\n",
              "          docLink.innerHTML = docLinkHtml;\n",
              "          element.appendChild(docLink);\n",
              "        }\n",
              "      </script>\n",
              "    </div>\n",
              "  </div>\n",
              "  "
            ]
          },
          "metadata": {},
          "execution_count": 107
        }
      ]
    },
    {
      "cell_type": "code",
      "source": [
        "df.set_index(['Id'],inplace=True)"
      ],
      "metadata": {
        "execution": {
          "iopub.status.busy": "2022-11-13T21:46:35.000743Z",
          "iopub.execute_input": "2022-11-13T21:46:35.001149Z",
          "iopub.status.idle": "2022-11-13T21:46:35.008522Z",
          "shell.execute_reply.started": "2022-11-13T21:46:35.001117Z",
          "shell.execute_reply": "2022-11-13T21:46:35.007267Z"
        },
        "trusted": true,
        "id": "EaHgPD8feaOu"
      },
      "execution_count": 108,
      "outputs": []
    },
    {
      "cell_type": "code",
      "source": [
        "df.info()"
      ],
      "metadata": {
        "execution": {
          "iopub.status.busy": "2022-11-13T21:46:35.010127Z",
          "iopub.execute_input": "2022-11-13T21:46:35.010488Z",
          "iopub.status.idle": "2022-11-13T21:46:35.039732Z",
          "shell.execute_reply.started": "2022-11-13T21:46:35.010439Z",
          "shell.execute_reply": "2022-11-13T21:46:35.038679Z"
        },
        "trusted": true,
        "id": "4a2Q2wkxeaOu",
        "outputId": "7ec223bd-fba0-4dde-8e87-9b3c4c825d37",
        "colab": {
          "base_uri": "https://localhost:8080/"
        }
      },
      "execution_count": 109,
      "outputs": [
        {
          "output_type": "stream",
          "name": "stdout",
          "text": [
            "<class 'pandas.core.frame.DataFrame'>\n",
            "Int64Index: 1460 entries, 1 to 1460\n",
            "Data columns (total 80 columns):\n",
            " #   Column         Non-Null Count  Dtype  \n",
            "---  ------         --------------  -----  \n",
            " 0   MSSubClass     1460 non-null   int64  \n",
            " 1   MSZoning       1460 non-null   object \n",
            " 2   LotFrontage    1201 non-null   float64\n",
            " 3   LotArea        1460 non-null   int64  \n",
            " 4   Street         1460 non-null   object \n",
            " 5   Alley          91 non-null     object \n",
            " 6   LotShape       1460 non-null   object \n",
            " 7   LandContour    1460 non-null   object \n",
            " 8   Utilities      1460 non-null   object \n",
            " 9   LotConfig      1460 non-null   object \n",
            " 10  LandSlope      1460 non-null   object \n",
            " 11  Neighborhood   1460 non-null   object \n",
            " 12  Condition1     1460 non-null   object \n",
            " 13  Condition2     1460 non-null   object \n",
            " 14  BldgType       1460 non-null   object \n",
            " 15  HouseStyle     1460 non-null   object \n",
            " 16  OverallQual    1460 non-null   int64  \n",
            " 17  OverallCond    1460 non-null   int64  \n",
            " 18  YearBuilt      1460 non-null   int64  \n",
            " 19  YearRemodAdd   1460 non-null   int64  \n",
            " 20  RoofStyle      1460 non-null   object \n",
            " 21  RoofMatl       1460 non-null   object \n",
            " 22  Exterior1st    1460 non-null   object \n",
            " 23  Exterior2nd    1460 non-null   object \n",
            " 24  MasVnrType     1452 non-null   object \n",
            " 25  MasVnrArea     1452 non-null   float64\n",
            " 26  ExterQual      1460 non-null   object \n",
            " 27  ExterCond      1460 non-null   object \n",
            " 28  Foundation     1460 non-null   object \n",
            " 29  BsmtQual       1423 non-null   object \n",
            " 30  BsmtCond       1423 non-null   object \n",
            " 31  BsmtExposure   1422 non-null   object \n",
            " 32  BsmtFinType1   1423 non-null   object \n",
            " 33  BsmtFinSF1     1460 non-null   int64  \n",
            " 34  BsmtFinType2   1422 non-null   object \n",
            " 35  BsmtFinSF2     1460 non-null   int64  \n",
            " 36  BsmtUnfSF      1460 non-null   int64  \n",
            " 37  TotalBsmtSF    1460 non-null   int64  \n",
            " 38  Heating        1460 non-null   object \n",
            " 39  HeatingQC      1460 non-null   object \n",
            " 40  CentralAir     1460 non-null   object \n",
            " 41  Electrical     1459 non-null   object \n",
            " 42  1stFlrSF       1460 non-null   int64  \n",
            " 43  2ndFlrSF       1460 non-null   int64  \n",
            " 44  LowQualFinSF   1460 non-null   int64  \n",
            " 45  GrLivArea      1460 non-null   int64  \n",
            " 46  BsmtFullBath   1460 non-null   int64  \n",
            " 47  BsmtHalfBath   1460 non-null   int64  \n",
            " 48  FullBath       1460 non-null   int64  \n",
            " 49  HalfBath       1460 non-null   int64  \n",
            " 50  BedroomAbvGr   1460 non-null   int64  \n",
            " 51  KitchenAbvGr   1460 non-null   int64  \n",
            " 52  KitchenQual    1460 non-null   object \n",
            " 53  TotRmsAbvGrd   1460 non-null   int64  \n",
            " 54  Functional     1460 non-null   object \n",
            " 55  Fireplaces     1460 non-null   int64  \n",
            " 56  FireplaceQu    770 non-null    object \n",
            " 57  GarageType     1379 non-null   object \n",
            " 58  GarageYrBlt    1379 non-null   float64\n",
            " 59  GarageFinish   1379 non-null   object \n",
            " 60  GarageCars     1460 non-null   int64  \n",
            " 61  GarageArea     1460 non-null   int64  \n",
            " 62  GarageQual     1379 non-null   object \n",
            " 63  GarageCond     1379 non-null   object \n",
            " 64  PavedDrive     1460 non-null   object \n",
            " 65  WoodDeckSF     1460 non-null   int64  \n",
            " 66  OpenPorchSF    1460 non-null   int64  \n",
            " 67  EnclosedPorch  1460 non-null   int64  \n",
            " 68  3SsnPorch      1460 non-null   int64  \n",
            " 69  ScreenPorch    1460 non-null   int64  \n",
            " 70  PoolArea       1460 non-null   int64  \n",
            " 71  PoolQC         7 non-null      object \n",
            " 72  Fence          281 non-null    object \n",
            " 73  MiscFeature    54 non-null     object \n",
            " 74  MiscVal        1460 non-null   int64  \n",
            " 75  MoSold         1460 non-null   int64  \n",
            " 76  YrSold         1460 non-null   int64  \n",
            " 77  SaleType       1460 non-null   object \n",
            " 78  SaleCondition  1460 non-null   object \n",
            " 79  SalePrice      1460 non-null   int64  \n",
            "dtypes: float64(3), int64(34), object(43)\n",
            "memory usage: 923.9+ KB\n"
          ]
        }
      ]
    },
    {
      "cell_type": "markdown",
      "source": [
        "##Analysing 'SalePrice'"
      ],
      "metadata": {
        "id": "Iv8jSFSztCeo"
      }
    },
    {
      "cell_type": "code",
      "source": [
        "#descriptive statistics summary\n",
        "df['SalePrice'].describe()"
      ],
      "metadata": {
        "colab": {
          "base_uri": "https://localhost:8080/"
        },
        "id": "dodSPw_tsdL5",
        "outputId": "73f36754-26e2-40f1-c28a-954e193b845f"
      },
      "execution_count": 110,
      "outputs": [
        {
          "output_type": "execute_result",
          "data": {
            "text/plain": [
              "count      1460.000000\n",
              "mean     180921.195890\n",
              "std       79442.502883\n",
              "min       34900.000000\n",
              "25%      129975.000000\n",
              "50%      163000.000000\n",
              "75%      214000.000000\n",
              "max      755000.000000\n",
              "Name: SalePrice, dtype: float64"
            ]
          },
          "metadata": {},
          "execution_count": 110
        }
      ]
    },
    {
      "cell_type": "code",
      "source": [
        "#plotting histogram\n",
        "sns.distplot(df['SalePrice']);"
      ],
      "metadata": {
        "colab": {
          "base_uri": "https://localhost:8080/",
          "height": 290
        },
        "id": "gZomt7mDuVs_",
        "outputId": "e5ef2e23-bb87-4f44-a247-ca2e3032651f"
      },
      "execution_count": 111,
      "outputs": [
        {
          "output_type": "display_data",
          "data": {
            "text/plain": [
              "<Figure size 432x288 with 1 Axes>"
            ],
            "image/png": "[encoded data removed]"
          },
          "metadata": {
            "needs_background": "light"
          }
        }
      ]
    },
    {
      "cell_type": "markdown",
      "source": [
        "The 'SalePrice' target variable seems to have a significant skew and peakedness."
      ],
      "metadata": {
        "id": "DbWJkDDRujH1"
      }
    },
    {
      "cell_type": "code",
      "source": [
        "#skewness and kurtosis\n",
        "print(\"Skewness: %f\" % df['SalePrice'].skew())\n",
        "print(\"Kurtosis: %f\" % df['SalePrice'].kurt())"
      ],
      "metadata": {
        "colab": {
          "base_uri": "https://localhost:8080/"
        },
        "id": "bSH0RcIKugAM",
        "outputId": "d7f7328b-8a79-499e-a616-6ef4755515de"
      },
      "execution_count": 112,
      "outputs": [
        {
          "output_type": "stream",
          "name": "stdout",
          "text": [
            "Skewness: 1.882876\n",
            "Kurtosis: 6.536282\n"
          ]
        }
      ]
    },
    {
      "cell_type": "code",
      "source": [
        "#correlation matrix\n",
        "df_corr = df.corr()\n",
        "f, ax = plt.subplots(figsize=(12, 9))\n",
        "sns.heatmap(df_corr);"
      ],
      "metadata": {
        "colab": {
          "base_uri": "https://localhost:8080/",
          "height": 607
        },
        "id": "PJenHD-6689j",
        "outputId": "173f1c84-99c0-4ead-dec0-edabb9d65a45"
      },
      "execution_count": 113,
      "outputs": [
        {
          "output_type": "display_data",
          "data": {
            "text/plain": [
              "<Figure size 864x648 with 2 Axes>"
            ],
            "image/png": "[encoded data removed]"
          },
          "metadata": {
            "needs_background": "light"
          }
        }
      ]
    },
    {
      "cell_type": "markdown",
      "source": [
        "At first sight, there are two white colored squares that get my attention. The first one refers to the 'TotalBsmtSF' and '1stFlrSF' variables, and the second one refers to the 'GarageCars' and 'GarageArea' variables. Both cases show how significant the correlation is between these variables. Actually, this correlation is so strong that it can indicate a situation of multicollinearity. If we think about these variables, we can conclude that they give almost the same information so multicollinearity really occurs. Heatmaps are great to detect this kind of situations and in problems dominated by feature selection, like ours, they are an essential tool."
      ],
      "metadata": {
        "id": "ZahvGsX_7n69"
      }
    },
    {
      "cell_type": "markdown",
      "source": [
        "Hence, we have to keep in mind to remove one of each variables that has lower correlation with SalePrice."
      ],
      "metadata": {
        "id": "BF9j_7ZvVPZE"
      }
    },
    {
      "cell_type": "code",
      "source": [
        "df.corr()['SalePrice'].sort_values(ascending=False)"
      ],
      "metadata": {
        "colab": {
          "base_uri": "https://localhost:8080/"
        },
        "id": "VsZe6AS38yWs",
        "outputId": "4de0617e-041c-47af-bf3c-833b446b2ef6"
      },
      "execution_count": 114,
      "outputs": [
        {
          "output_type": "execute_result",
          "data": {
            "text/plain": [
              "SalePrice        1.000000\n",
              "OverallQual      0.790982\n",
              "GrLivArea        0.708624\n",
              "GarageCars       0.640409\n",
              "GarageArea       0.623431\n",
              "TotalBsmtSF      0.613581\n",
              "1stFlrSF         0.605852\n",
              "FullBath         0.560664\n",
              "TotRmsAbvGrd     0.533723\n",
              "YearBuilt        0.522897\n",
              "YearRemodAdd     0.507101\n",
              "GarageYrBlt      0.486362\n",
              "MasVnrArea       0.477493\n",
              "Fireplaces       0.466929\n",
              "BsmtFinSF1       0.386420\n",
              "LotFrontage      0.351799\n",
              "WoodDeckSF       0.324413\n",
              "2ndFlrSF         0.319334\n",
              "OpenPorchSF      0.315856\n",
              "HalfBath         0.284108\n",
              "LotArea          0.263843\n",
              "BsmtFullBath     0.227122\n",
              "BsmtUnfSF        0.214479\n",
              "BedroomAbvGr     0.168213\n",
              "ScreenPorch      0.111447\n",
              "PoolArea         0.092404\n",
              "MoSold           0.046432\n",
              "3SsnPorch        0.044584\n",
              "BsmtFinSF2      -0.011378\n",
              "BsmtHalfBath    -0.016844\n",
              "MiscVal         -0.021190\n",
              "LowQualFinSF    -0.025606\n",
              "YrSold          -0.028923\n",
              "OverallCond     -0.077856\n",
              "MSSubClass      -0.084284\n",
              "EnclosedPorch   -0.128578\n",
              "KitchenAbvGr    -0.135907\n",
              "Name: SalePrice, dtype: float64"
            ]
          },
          "metadata": {},
          "execution_count": 114
        }
      ]
    },
    {
      "cell_type": "code",
      "source": [
        "## Two particular features have caught my eye- \"YearBuilt\" and \"YrSold\",\n",
        "## I will apply feature construction and add a feature \"YearRetained\" as that can be an important feature\n",
        "\n",
        "df['YearRetained']  = df['YrSold'] - df['YearBuilt']"
      ],
      "metadata": {
        "id": "Xi18Pq3HUFnA"
      },
      "execution_count": 115,
      "outputs": []
    },
    {
      "cell_type": "code",
      "source": [
        "df.corr()['SalePrice'].sort_values(ascending=False)"
      ],
      "metadata": {
        "colab": {
          "base_uri": "https://localhost:8080/"
        },
        "id": "Mld5I2uBU0Mx",
        "outputId": "decff688-5891-4e1b-b28a-1372124be258"
      },
      "execution_count": 116,
      "outputs": [
        {
          "output_type": "execute_result",
          "data": {
            "text/plain": [
              "SalePrice        1.000000\n",
              "OverallQual      0.790982\n",
              "GrLivArea        0.708624\n",
              "GarageCars       0.640409\n",
              "GarageArea       0.623431\n",
              "TotalBsmtSF      0.613581\n",
              "1stFlrSF         0.605852\n",
              "FullBath         0.560664\n",
              "TotRmsAbvGrd     0.533723\n",
              "YearBuilt        0.522897\n",
              "YearRemodAdd     0.507101\n",
              "GarageYrBlt      0.486362\n",
              "MasVnrArea       0.477493\n",
              "Fireplaces       0.466929\n",
              "BsmtFinSF1       0.386420\n",
              "LotFrontage      0.351799\n",
              "WoodDeckSF       0.324413\n",
              "2ndFlrSF         0.319334\n",
              "OpenPorchSF      0.315856\n",
              "HalfBath         0.284108\n",
              "LotArea          0.263843\n",
              "BsmtFullBath     0.227122\n",
              "BsmtUnfSF        0.214479\n",
              "BedroomAbvGr     0.168213\n",
              "ScreenPorch      0.111447\n",
              "PoolArea         0.092404\n",
              "MoSold           0.046432\n",
              "3SsnPorch        0.044584\n",
              "BsmtFinSF2      -0.011378\n",
              "BsmtHalfBath    -0.016844\n",
              "MiscVal         -0.021190\n",
              "LowQualFinSF    -0.025606\n",
              "YrSold          -0.028923\n",
              "OverallCond     -0.077856\n",
              "MSSubClass      -0.084284\n",
              "EnclosedPorch   -0.128578\n",
              "KitchenAbvGr    -0.135907\n",
              "YearRetained    -0.523350\n",
              "Name: SalePrice, dtype: float64"
            ]
          },
          "metadata": {},
          "execution_count": 116
        }
      ]
    },
    {
      "cell_type": "code",
      "source": [
        "## Since the new feature has a a strong degree of negative correlation with the target variable,\n",
        "## the absolute value of which overweighs both \"YearBuilt\" and \"YrSold\", I can remove \"YearBuilt\" and \"YrSold\""
      ],
      "metadata": {
        "id": "9nzKrgtDU40Q"
      },
      "execution_count": 117,
      "outputs": []
    },
    {
      "cell_type": "markdown",
      "source": [
        "Now dropping these features."
      ],
      "metadata": {
        "id": "e6GfQwbx8XdB"
      }
    },
    {
      "cell_type": "code",
      "source": [
        "df.drop(['GarageArea','1stFlrSF','YearBuilt','YrSold'],axis=1, inplace=True)"
      ],
      "metadata": {
        "id": "-gXJuXze8HTf"
      },
      "execution_count": 118,
      "outputs": []
    },
    {
      "cell_type": "code",
      "source": [
        "df.corr()['SalePrice'].sort_values(ascending=False)"
      ],
      "metadata": {
        "colab": {
          "base_uri": "https://localhost:8080/"
        },
        "id": "votRJJ8b7Bsp",
        "outputId": "f6011650-c772-49f3-c3f8-e97ede171472"
      },
      "execution_count": 119,
      "outputs": [
        {
          "output_type": "execute_result",
          "data": {
            "text/plain": [
              "SalePrice        1.000000\n",
              "OverallQual      0.790982\n",
              "GrLivArea        0.708624\n",
              "GarageCars       0.640409\n",
              "TotalBsmtSF      0.613581\n",
              "FullBath         0.560664\n",
              "TotRmsAbvGrd     0.533723\n",
              "YearRemodAdd     0.507101\n",
              "GarageYrBlt      0.486362\n",
              "MasVnrArea       0.477493\n",
              "Fireplaces       0.466929\n",
              "BsmtFinSF1       0.386420\n",
              "LotFrontage      0.351799\n",
              "WoodDeckSF       0.324413\n",
              "2ndFlrSF         0.319334\n",
              "OpenPorchSF      0.315856\n",
              "HalfBath         0.284108\n",
              "LotArea          0.263843\n",
              "BsmtFullBath     0.227122\n",
              "BsmtUnfSF        0.214479\n",
              "BedroomAbvGr     0.168213\n",
              "ScreenPorch      0.111447\n",
              "PoolArea         0.092404\n",
              "MoSold           0.046432\n",
              "3SsnPorch        0.044584\n",
              "BsmtFinSF2      -0.011378\n",
              "BsmtHalfBath    -0.016844\n",
              "MiscVal         -0.021190\n",
              "LowQualFinSF    -0.025606\n",
              "OverallCond     -0.077856\n",
              "MSSubClass      -0.084284\n",
              "EnclosedPorch   -0.128578\n",
              "KitchenAbvGr    -0.135907\n",
              "YearRetained    -0.523350\n",
              "Name: SalePrice, dtype: float64"
            ]
          },
          "metadata": {},
          "execution_count": 119
        }
      ]
    },
    {
      "cell_type": "code",
      "source": [
        "df.columns"
      ],
      "metadata": {
        "colab": {
          "base_uri": "https://localhost:8080/"
        },
        "id": "ockGKXl6wPCG",
        "outputId": "5e68f767-7c74-434a-f323-a628542bdb7d"
      },
      "execution_count": 120,
      "outputs": [
        {
          "output_type": "execute_result",
          "data": {
            "text/plain": [
              "Index(['MSSubClass', 'MSZoning', 'LotFrontage', 'LotArea', 'Street', 'Alley',\n",
              "       'LotShape', 'LandContour', 'Utilities', 'LotConfig', 'LandSlope',\n",
              "       'Neighborhood', 'Condition1', 'Condition2', 'BldgType', 'HouseStyle',\n",
              "       'OverallQual', 'OverallCond', 'YearRemodAdd', 'RoofStyle', 'RoofMatl',\n",
              "       'Exterior1st', 'Exterior2nd', 'MasVnrType', 'MasVnrArea', 'ExterQual',\n",
              "       'ExterCond', 'Foundation', 'BsmtQual', 'BsmtCond', 'BsmtExposure',\n",
              "       'BsmtFinType1', 'BsmtFinSF1', 'BsmtFinType2', 'BsmtFinSF2', 'BsmtUnfSF',\n",
              "       'TotalBsmtSF', 'Heating', 'HeatingQC', 'CentralAir', 'Electrical',\n",
              "       '2ndFlrSF', 'LowQualFinSF', 'GrLivArea', 'BsmtFullBath', 'BsmtHalfBath',\n",
              "       'FullBath', 'HalfBath', 'BedroomAbvGr', 'KitchenAbvGr', 'KitchenQual',\n",
              "       'TotRmsAbvGrd', 'Functional', 'Fireplaces', 'FireplaceQu', 'GarageType',\n",
              "       'GarageYrBlt', 'GarageFinish', 'GarageCars', 'GarageQual', 'GarageCond',\n",
              "       'PavedDrive', 'WoodDeckSF', 'OpenPorchSF', 'EnclosedPorch', '3SsnPorch',\n",
              "       'ScreenPorch', 'PoolArea', 'PoolQC', 'Fence', 'MiscFeature', 'MiscVal',\n",
              "       'MoSold', 'SaleType', 'SaleCondition', 'SalePrice', 'YearRetained'],\n",
              "      dtype='object')"
            ]
          },
          "metadata": {},
          "execution_count": 120
        }
      ]
    },
    {
      "cell_type": "code",
      "source": [
        "len(df.columns)"
      ],
      "metadata": {
        "colab": {
          "base_uri": "https://localhost:8080/"
        },
        "id": "TzTU5Nb73_yq",
        "outputId": "e84a846f-ac61-466e-9f98-73288a154603"
      },
      "execution_count": 121,
      "outputs": [
        {
          "output_type": "execute_result",
          "data": {
            "text/plain": [
              "77"
            ]
          },
          "metadata": {},
          "execution_count": 121
        }
      ]
    },
    {
      "cell_type": "code",
      "source": [
        "#I will keep a record of numerical and categorical features which will help me during the Feature Engineering stage\n",
        "numerical_features= df.select_dtypes(include=[np.number])\n",
        "categorical_features = df.select_dtypes(exclude=[np.number])"
      ],
      "metadata": {
        "id": "XkXaGo9JwEM2"
      },
      "execution_count": 122,
      "outputs": []
    },
    {
      "cell_type": "code",
      "source": [
        "numerical_features.columns"
      ],
      "metadata": {
        "colab": {
          "base_uri": "https://localhost:8080/"
        },
        "id": "9k_jeFfpwHJy",
        "outputId": "5a59d4c4-dc71-4788-c2f7-0a9583632139"
      },
      "execution_count": 123,
      "outputs": [
        {
          "output_type": "execute_result",
          "data": {
            "text/plain": [
              "Index(['MSSubClass', 'LotFrontage', 'LotArea', 'OverallQual', 'OverallCond',\n",
              "       'YearRemodAdd', 'MasVnrArea', 'BsmtFinSF1', 'BsmtFinSF2', 'BsmtUnfSF',\n",
              "       'TotalBsmtSF', '2ndFlrSF', 'LowQualFinSF', 'GrLivArea', 'BsmtFullBath',\n",
              "       'BsmtHalfBath', 'FullBath', 'HalfBath', 'BedroomAbvGr', 'KitchenAbvGr',\n",
              "       'TotRmsAbvGrd', 'Fireplaces', 'GarageYrBlt', 'GarageCars', 'WoodDeckSF',\n",
              "       'OpenPorchSF', 'EnclosedPorch', '3SsnPorch', 'ScreenPorch', 'PoolArea',\n",
              "       'MiscVal', 'MoSold', 'SalePrice', 'YearRetained'],\n",
              "      dtype='object')"
            ]
          },
          "metadata": {},
          "execution_count": 123
        }
      ]
    },
    {
      "cell_type": "code",
      "source": [
        "categorical_features.columns"
      ],
      "metadata": {
        "colab": {
          "base_uri": "https://localhost:8080/"
        },
        "id": "OvF35qG5wSmK",
        "outputId": "4a5743db-c72e-47b7-b183-e1ce36d1a3a9"
      },
      "execution_count": 124,
      "outputs": [
        {
          "output_type": "execute_result",
          "data": {
            "text/plain": [
              "Index(['MSZoning', 'Street', 'Alley', 'LotShape', 'LandContour', 'Utilities',\n",
              "       'LotConfig', 'LandSlope', 'Neighborhood', 'Condition1', 'Condition2',\n",
              "       'BldgType', 'HouseStyle', 'RoofStyle', 'RoofMatl', 'Exterior1st',\n",
              "       'Exterior2nd', 'MasVnrType', 'ExterQual', 'ExterCond', 'Foundation',\n",
              "       'BsmtQual', 'BsmtCond', 'BsmtExposure', 'BsmtFinType1', 'BsmtFinType2',\n",
              "       'Heating', 'HeatingQC', 'CentralAir', 'Electrical', 'KitchenQual',\n",
              "       'Functional', 'FireplaceQu', 'GarageType', 'GarageFinish', 'GarageQual',\n",
              "       'GarageCond', 'PavedDrive', 'PoolQC', 'Fence', 'MiscFeature',\n",
              "       'SaleType', 'SaleCondition'],\n",
              "      dtype='object')"
            ]
          },
          "metadata": {},
          "execution_count": 124
        }
      ]
    },
    {
      "cell_type": "markdown",
      "source": [
        "\n",
        "\n",
        "---\n",
        "\n",
        "\n",
        "\n",
        "---\n",
        "\n"
      ],
      "metadata": {
        "id": "RAT6WSup6dDj"
      }
    },
    {
      "cell_type": "markdown",
      "source": [
        "#Handling missing data"
      ],
      "metadata": {
        "id": "MQfnOIxL7_s3"
      }
    },
    {
      "cell_type": "code",
      "source": [
        "df.isnull().sum()"
      ],
      "metadata": {
        "colab": {
          "base_uri": "https://localhost:8080/"
        },
        "id": "WZYyURNe6ctP",
        "outputId": "c3e4c1c2-1591-474b-97f1-63830d4488d3"
      },
      "execution_count": 125,
      "outputs": [
        {
          "output_type": "execute_result",
          "data": {
            "text/plain": [
              "MSSubClass         0\n",
              "MSZoning           0\n",
              "LotFrontage      259\n",
              "LotArea            0\n",
              "Street             0\n",
              "                ... \n",
              "MoSold             0\n",
              "SaleType           0\n",
              "SaleCondition      0\n",
              "SalePrice          0\n",
              "YearRetained       0\n",
              "Length: 77, dtype: int64"
            ]
          },
          "metadata": {},
          "execution_count": 125
        }
      ]
    },
    {
      "cell_type": "code",
      "source": [
        "#percentage of missing data\n",
        "df.isnull().sum()[df.isnull().sum()>0].sort_values(ascending=False)/df.shape[0]*100"
      ],
      "metadata": {
        "colab": {
          "base_uri": "https://localhost:8080/"
        },
        "id": "KCoQZjzI6kdI",
        "outputId": "34c7bd5e-b6e0-4c7c-f4fc-edcb9144bdaa"
      },
      "execution_count": 126,
      "outputs": [
        {
          "output_type": "execute_result",
          "data": {
            "text/plain": [
              "PoolQC          99.520548\n",
              "MiscFeature     96.301370\n",
              "Alley           93.767123\n",
              "Fence           80.753425\n",
              "FireplaceQu     47.260274\n",
              "LotFrontage     17.739726\n",
              "GarageType       5.547945\n",
              "GarageYrBlt      5.547945\n",
              "GarageFinish     5.547945\n",
              "GarageQual       5.547945\n",
              "GarageCond       5.547945\n",
              "BsmtExposure     2.602740\n",
              "BsmtFinType2     2.602740\n",
              "BsmtFinType1     2.534247\n",
              "BsmtCond         2.534247\n",
              "BsmtQual         2.534247\n",
              "MasVnrArea       0.547945\n",
              "MasVnrType       0.547945\n",
              "Electrical       0.068493\n",
              "dtype: float64"
            ]
          },
          "metadata": {},
          "execution_count": 126
        }
      ]
    },
    {
      "cell_type": "markdown",
      "source": [
        "I will consider that when more than 15% of the data is missing, we should delete the corresponding variable and pretend it never existed. This means that we will not try any trick to fill the missing data in these cases. According to this, there is a set of variables (e.g. 'PoolQC', 'MiscFeature', 'Alley', etc.) that we should delete.<br>\n",
        "Since a large amount is already missing, this will have no bearing on our result. Sometimes data for some features is not calculated as it may be considered less important by the domain experts themselves."
      ],
      "metadata": {
        "id": "--0SgktwIkJL"
      }
    },
    {
      "cell_type": "code",
      "source": [
        "df.drop(['PoolQC','MiscFeature','Alley','Fence','FireplaceQu','LotFrontage'],axis=1, inplace=True)"
      ],
      "metadata": {
        "id": "2GF06cbh6qIT"
      },
      "execution_count": 127,
      "outputs": []
    },
    {
      "cell_type": "markdown",
      "source": [
        "I will impute missing values using Simple Imputer from sklearn library during feature engineering stage itself."
      ],
      "metadata": {
        "id": "70Ms_Kpn9BGt"
      }
    },
    {
      "cell_type": "markdown",
      "source": [
        "\n",
        "\n",
        "---\n",
        "\n",
        "\n",
        "\n",
        "---\n",
        "\n"
      ],
      "metadata": {
        "id": "6eLQEVVF9MwL"
      }
    },
    {
      "cell_type": "markdown",
      "source": [
        "##Managing outliers\n",
        "\n",
        "I believe that the dropping outlier is always a harsh step and should be taken only in extreme conditions when we’re very sure that the outlier is due to a measurement error, which we generally do not know while doing analysis.\n",
        "\n",
        "Sometimes outliers indicate a mistake in data collection. Other times, though, they can influence a data set, so it’s important to keep them to better understand the dataset in the big picture.\n",
        "\n",
        "We cannot drop the outlier because we do not know how the data was collected, nor do we know what effects outliers have on our dependent variable.\n",
        "\n",
        "Therefore, as a conscious choice I have decided not to touch outliers for now, we can come to it later if we feel the need to improve our predictions."
      ],
      "metadata": {
        "id": "Ir7oe4oP_zvY"
      }
    },
    {
      "cell_type": "markdown",
      "source": [
        "\n",
        "\n",
        "---\n",
        "\n",
        "\n",
        "\n",
        "---\n",
        "\n"
      ],
      "metadata": {
        "id": "xCy0E1hbItcK"
      }
    },
    {
      "cell_type": "markdown",
      "source": [
        "###Now, I am keeping the highest correlated numerical features and concatenating it to categorical features. This will conclude our EDA stage and we'll be ready to do some feature engineering after this."
      ],
      "metadata": {
        "id": "XCwhc7rP-qFS"
      }
    },
    {
      "cell_type": "code",
      "source": [
        "## This is just to make it positively correlated with SalePrice\n",
        "df['YearRetained'] = -df['YearRetained']"
      ],
      "metadata": {
        "id": "-gtq4y0eXfwf"
      },
      "execution_count": 132,
      "outputs": []
    },
    {
      "cell_type": "code",
      "source": [
        "highest_corr_features = df.corr().index[ (df.corr()[\"SalePrice\"])>0.4]"
      ],
      "metadata": {
        "execution": {
          "iopub.status.busy": "2022-11-13T21:46:35.068557Z",
          "iopub.execute_input": "2022-11-13T21:46:35.068963Z",
          "iopub.status.idle": "2022-11-13T21:46:35.091253Z",
          "shell.execute_reply.started": "2022-11-13T21:46:35.068919Z",
          "shell.execute_reply": "2022-11-13T21:46:35.090343Z"
        },
        "trusted": true,
        "id": "5peanJEUeaOu"
      },
      "execution_count": 133,
      "outputs": []
    },
    {
      "cell_type": "code",
      "source": [
        "df2 = df[highest_corr_features]"
      ],
      "metadata": {
        "execution": {
          "iopub.status.busy": "2022-11-13T21:46:35.092869Z",
          "iopub.execute_input": "2022-11-13T21:46:35.093327Z",
          "iopub.status.idle": "2022-11-13T21:46:35.101331Z",
          "shell.execute_reply.started": "2022-11-13T21:46:35.093275Z",
          "shell.execute_reply": "2022-11-13T21:46:35.100340Z"
        },
        "trusted": true,
        "id": "7UZxWLsTeaOv"
      },
      "execution_count": 134,
      "outputs": []
    },
    {
      "cell_type": "code",
      "source": [
        "df2"
      ],
      "metadata": {
        "execution": {
          "iopub.status.busy": "2022-11-13T21:46:35.102804Z",
          "iopub.execute_input": "2022-11-13T21:46:35.103095Z",
          "iopub.status.idle": "2022-11-13T21:46:35.128018Z",
          "shell.execute_reply.started": "2022-11-13T21:46:35.103068Z",
          "shell.execute_reply": "2022-11-13T21:46:35.126991Z"
        },
        "trusted": true,
        "id": "yEdA_WaeeaOv",
        "outputId": "6961be7f-604f-4c48-9bc4-3c53307ffbbf",
        "colab": {
          "base_uri": "https://localhost:8080/",
          "height": 455
        }
      },
      "execution_count": 135,
      "outputs": [
        {
          "output_type": "execute_result",
          "data": {
            "text/plain": [
              "      OverallQual  YearRemodAdd  MasVnrArea  TotalBsmtSF  GrLivArea  FullBath  \\\n",
              "Id                                                                              \n",
              "1               7          2003       196.0          856       1710         2   \n",
              "2               6          1976         0.0         1262       1262         2   \n",
              "3               7          2002       162.0          920       1786         2   \n",
              "4               7          1970         0.0          756       1717         1   \n",
              "5               8          2000       350.0         1145       2198         2   \n",
              "...           ...           ...         ...          ...        ...       ...   \n",
              "1456            6          2000         0.0          953       1647         2   \n",
              "1457            6          1988       119.0         1542       2073         2   \n",
              "1458            7          2006         0.0         1152       2340         2   \n",
              "1459            5          1996         0.0         1078       1078         1   \n",
              "1460            5          1965         0.0         1256       1256         1   \n",
              "\n",
              "      TotRmsAbvGrd  Fireplaces  GarageYrBlt  GarageCars  SalePrice  \\\n",
              "Id                                                                   \n",
              "1                8           0       2003.0           2     208500   \n",
              "2                6           1       1976.0           2     181500   \n",
              "3                6           1       2001.0           2     223500   \n",
              "4                7           1       1998.0           3     140000   \n",
              "5                9           1       2000.0           3     250000   \n",
              "...            ...         ...          ...         ...        ...   \n",
              "1456             7           1       1999.0           2     175000   \n",
              "1457             7           2       1978.0           2     210000   \n",
              "1458             9           2       1941.0           1     266500   \n",
              "1459             5           0       1950.0           1     142125   \n",
              "1460             6           0       1965.0           1     147500   \n",
              "\n",
              "      YearRetained  \n",
              "Id                  \n",
              "1               -5  \n",
              "2              -31  \n",
              "3               -7  \n",
              "4              -91  \n",
              "5               -8  \n",
              "...            ...  \n",
              "1456            -8  \n",
              "1457           -32  \n",
              "1458           -69  \n",
              "1459           -60  \n",
              "1460           -43  \n",
              "\n",
              "[1460 rows x 12 columns]"
            ],
            "text/html": [
              "\n",
              "  <div id=\"df-bfaa3ce5-0b93-4113-bc92-fe3eec93834d\">\n",
              "    <div class=\"colab-df-container\">\n",
              "      <div>\n",
              "<style scoped>\n",
              "    .dataframe tbody tr th:only-of-type {\n",
              "        vertical-align: middle;\n",
              "    }\n",
              "\n",
              "    .dataframe tbody tr th {\n",
              "        vertical-align: top;\n",
              "    }\n",
              "\n",
              "    .dataframe thead th {\n",
              "        text-align: right;\n",
              "    }\n",
              "</style>\n",
              "<table border=\"1\" class=\"dataframe\">\n",
              "  <thead>\n",
              "    <tr style=\"text-align: right;\">\n",
              "      <th></th>\n",
              "      <th>OverallQual</th>\n",
              "      <th>YearRemodAdd</th>\n",
              "      <th>MasVnrArea</th>\n",
              "      <th>TotalBsmtSF</th>\n",
              "      <th>GrLivArea</th>\n",
              "      <th>FullBath</th>\n",
              "      <th>TotRmsAbvGrd</th>\n",
              "      <th>Fireplaces</th>\n",
              "      <th>GarageYrBlt</th>\n",
              "      <th>GarageCars</th>\n",
              "      <th>SalePrice</th>\n",
              "      <th>YearRetained</th>\n",
              "    </tr>\n",
              "    <tr>\n",
              "      <th>Id</th>\n",
              "      <th></th>\n",
              "      <th></th>\n",
              "      <th></th>\n",
              "      <th></th>\n",
              "      <th></th>\n",
              "      <th></th>\n",
              "      <th></th>\n",
              "      <th></th>\n",
              "      <th></th>\n",
              "      <th></th>\n",
              "      <th></th>\n",
              "      <th></th>\n",
              "    </tr>\n",
              "  </thead>\n",
              "  <tbody>\n",
              "    <tr>\n",
              "      <th>1</th>\n",
              "      <td>7</td>\n",
              "      <td>2003</td>\n",
              "      <td>196.0</td>\n",
              "      <td>856</td>\n",
              "      <td>1710</td>\n",
              "      <td>2</td>\n",
              "      <td>8</td>\n",
              "      <td>0</td>\n",
              "      <td>2003.0</td>\n",
              "      <td>2</td>\n",
              "      <td>208500</td>\n",
              "      <td>-5</td>\n",
              "    </tr>\n",
              "    <tr>\n",
              "      <th>2</th>\n",
              "      <td>6</td>\n",
              "      <td>1976</td>\n",
              "      <td>0.0</td>\n",
              "      <td>1262</td>\n",
              "      <td>1262</td>\n",
              "      <td>2</td>\n",
              "      <td>6</td>\n",
              "      <td>1</td>\n",
              "      <td>1976.0</td>\n",
              "      <td>2</td>\n",
              "      <td>181500</td>\n",
              "      <td>-31</td>\n",
              "    </tr>\n",
              "    <tr>\n",
              "      <th>3</th>\n",
              "      <td>7</td>\n",
              "      <td>2002</td>\n",
              "      <td>162.0</td>\n",
              "      <td>920</td>\n",
              "      <td>1786</td>\n",
              "      <td>2</td>\n",
              "      <td>6</td>\n",
              "      <td>1</td>\n",
              "      <td>2001.0</td>\n",
              "      <td>2</td>\n",
              "      <td>223500</td>\n",
              "      <td>-7</td>\n",
              "    </tr>\n",
              "    <tr>\n",
              "      <th>4</th>\n",
              "      <td>7</td>\n",
              "      <td>1970</td>\n",
              "      <td>0.0</td>\n",
              "      <td>756</td>\n",
              "      <td>1717</td>\n",
              "      <td>1</td>\n",
              "      <td>7</td>\n",
              "      <td>1</td>\n",
              "      <td>1998.0</td>\n",
              "      <td>3</td>\n",
              "      <td>140000</td>\n",
              "      <td>-91</td>\n",
              "    </tr>\n",
              "    <tr>\n",
              "      <th>5</th>\n",
              "      <td>8</td>\n",
              "      <td>2000</td>\n",
              "      <td>350.0</td>\n",
              "      <td>1145</td>\n",
              "      <td>2198</td>\n",
              "      <td>2</td>\n",
              "      <td>9</td>\n",
              "      <td>1</td>\n",
              "      <td>2000.0</td>\n",
              "      <td>3</td>\n",
              "      <td>250000</td>\n",
              "      <td>-8</td>\n",
              "    </tr>\n",
              "    <tr>\n",
              "      <th>...</th>\n",
              "      <td>...</td>\n",
              "      <td>...</td>\n",
              "      <td>...</td>\n",
              "      <td>...</td>\n",
              "      <td>...</td>\n",
              "      <td>...</td>\n",
              "      <td>...</td>\n",
              "      <td>...</td>\n",
              "      <td>...</td>\n",
              "      <td>...</td>\n",
              "      <td>...</td>\n",
              "      <td>...</td>\n",
              "    </tr>\n",
              "    <tr>\n",
              "      <th>1456</th>\n",
              "      <td>6</td>\n",
              "      <td>2000</td>\n",
              "      <td>0.0</td>\n",
              "      <td>953</td>\n",
              "      <td>1647</td>\n",
              "      <td>2</td>\n",
              "      <td>7</td>\n",
              "      <td>1</td>\n",
              "      <td>1999.0</td>\n",
              "      <td>2</td>\n",
              "      <td>175000</td>\n",
              "      <td>-8</td>\n",
              "    </tr>\n",
              "    <tr>\n",
              "      <th>1457</th>\n",
              "      <td>6</td>\n",
              "      <td>1988</td>\n",
              "      <td>119.0</td>\n",
              "      <td>1542</td>\n",
              "      <td>2073</td>\n",
              "      <td>2</td>\n",
              "      <td>7</td>\n",
              "      <td>2</td>\n",
              "      <td>1978.0</td>\n",
              "      <td>2</td>\n",
              "      <td>210000</td>\n",
              "      <td>-32</td>\n",
              "    </tr>\n",
              "    <tr>\n",
              "      <th>1458</th>\n",
              "      <td>7</td>\n",
              "      <td>2006</td>\n",
              "      <td>0.0</td>\n",
              "      <td>1152</td>\n",
              "      <td>2340</td>\n",
              "      <td>2</td>\n",
              "      <td>9</td>\n",
              "      <td>2</td>\n",
              "      <td>1941.0</td>\n",
              "      <td>1</td>\n",
              "      <td>266500</td>\n",
              "      <td>-69</td>\n",
              "    </tr>\n",
              "    <tr>\n",
              "      <th>1459</th>\n",
              "      <td>5</td>\n",
              "      <td>1996</td>\n",
              "      <td>0.0</td>\n",
              "      <td>1078</td>\n",
              "      <td>1078</td>\n",
              "      <td>1</td>\n",
              "      <td>5</td>\n",
              "      <td>0</td>\n",
              "      <td>1950.0</td>\n",
              "      <td>1</td>\n",
              "      <td>142125</td>\n",
              "      <td>-60</td>\n",
              "    </tr>\n",
              "    <tr>\n",
              "      <th>1460</th>\n",
              "      <td>5</td>\n",
              "      <td>1965</td>\n",
              "      <td>0.0</td>\n",
              "      <td>1256</td>\n",
              "      <td>1256</td>\n",
              "      <td>1</td>\n",
              "      <td>6</td>\n",
              "      <td>0</td>\n",
              "      <td>1965.0</td>\n",
              "      <td>1</td>\n",
              "      <td>147500</td>\n",
              "      <td>-43</td>\n",
              "    </tr>\n",
              "  </tbody>\n",
              "</table>\n",
              "<p>1460 rows × 12 columns</p>\n",
              "</div>\n",
              "      <button class=\"colab-df-convert\" onclick=\"convertToInteractive('df-bfaa3ce5-0b93-4113-bc92-fe3eec93834d')\"\n",
              "              title=\"Convert this dataframe to an interactive table.\"\n",
              "              style=\"display:none;\">\n",
              "        \n",
              "  <svg xmlns=\"http://www.w3.org/2000/svg\" height=\"24px\"viewBox=\"0 0 24 24\"\n",
              "       width=\"24px\">\n",
              "    <path d=\"M0 0h24v24H0V0z\" fill=\"none\"/>\n",
              "    <path d=\"M18.56 5.44l.94 2.06.94-2.06 2.06-.94-2.06-.94-.94-2.06-.94 2.06-2.06.94zm-11 1L8.5 8.5l.94-2.06 2.06-.94-2.06-.94L8.5 2.5l-.94 2.06-2.06.94zm10 10l.94 2.06.94-2.06 2.06-.94-2.06-.94-.94-2.06-.94 2.06-2.06.94z\"/><path d=\"M17.41 7.96l-1.37-1.37c-.4-.4-.92-.59-1.43-.59-.52 0-1.04.2-1.43.59L10.3 9.45l-7.72 7.72c-.78.78-.78 2.05 0 2.83L4 21.41c.39.39.9.59 1.41.59.51 0 1.02-.2 1.41-.59l7.78-7.78 2.81-2.81c.8-.78.8-2.07 0-2.86zM5.41 20L4 18.59l7.72-7.72 1.47 1.35L5.41 20z\"/>\n",
              "  </svg>\n",
              "      </button>\n",
              "      \n",
              "  <style>\n",
              "    .colab-df-container {\n",
              "      display:flex;\n",
              "      flex-wrap:wrap;\n",
              "      gap: 12px;\n",
              "    }\n",
              "\n",
              "    .colab-df-convert {\n",
              "      background-color: #E8F0FE;\n",
              "      border: none;\n",
              "      border-radius: 50%;\n",
              "      cursor: pointer;\n",
              "      display: none;\n",
              "      fill: #1967D2;\n",
              "      height: 32px;\n",
              "      padding: 0 0 0 0;\n",
              "      width: 32px;\n",
              "    }\n",
              "\n",
              "    .colab-df-convert:hover {\n",
              "      background-color: #E2EBFA;\n",
              "      box-shadow: 0px 1px 2px rgba(60, 64, 67, 0.3), 0px 1px 3px 1px rgba(60, 64, 67, 0.15);\n",
              "      fill: #174EA6;\n",
              "    }\n",
              "\n",
              "    [theme=dark] .colab-df-convert {\n",
              "      background-color: #3B4455;\n",
              "      fill: #D2E3FC;\n",
              "    }\n",
              "\n",
              "    [theme=dark] .colab-df-convert:hover {\n",
              "      background-color: #434B5C;\n",
              "      box-shadow: 0px 1px 3px 1px rgba(0, 0, 0, 0.15);\n",
              "      filter: drop-shadow(0px 1px 2px rgba(0, 0, 0, 0.3));\n",
              "      fill: #FFFFFF;\n",
              "    }\n",
              "  </style>\n",
              "\n",
              "      <script>\n",
              "        const buttonEl =\n",
              "          document.querySelector('#df-bfaa3ce5-0b93-4113-bc92-fe3eec93834d button.colab-df-convert');\n",
              "        buttonEl.style.display =\n",
              "          google.colab.kernel.accessAllowed ? 'block' : 'none';\n",
              "\n",
              "        async function convertToInteractive(key) {\n",
              "          const element = document.querySelector('#df-bfaa3ce5-0b93-4113-bc92-fe3eec93834d');\n",
              "          const dataTable =\n",
              "            await google.colab.kernel.invokeFunction('convertToInteractive',\n",
              "                                                     [key], {});\n",
              "          if (!dataTable) return;\n",
              "\n",
              "          const docLinkHtml = 'Like what you see? Visit the ' +\n",
              "            '<a target=\"_blank\" href=https://colab.research.google.com/notebooks/data_table.ipynb>data table notebook</a>'\n",
              "            + ' to learn more about interactive tables.';\n",
              "          element.innerHTML = '';\n",
              "          dataTable['output_type'] = 'display_data';\n",
              "          await google.colab.output.renderOutput(dataTable, element);\n",
              "          const docLink = document.createElement('div');\n",
              "          docLink.innerHTML = docLinkHtml;\n",
              "          element.appendChild(docLink);\n",
              "        }\n",
              "      </script>\n",
              "    </div>\n",
              "  </div>\n",
              "  "
            ]
          },
          "metadata": {},
          "execution_count": 135
        }
      ]
    },
    {
      "cell_type": "code",
      "source": [
        "categorical_data = df.select_dtypes(exclude=[np.number])"
      ],
      "metadata": {
        "execution": {
          "iopub.status.busy": "2022-11-13T21:46:36.601841Z",
          "iopub.execute_input": "2022-11-13T21:46:36.602599Z",
          "iopub.status.idle": "2022-11-13T21:46:36.608859Z",
          "shell.execute_reply.started": "2022-11-13T21:46:36.602553Z",
          "shell.execute_reply": "2022-11-13T21:46:36.608113Z"
        },
        "trusted": true,
        "id": "7fGXliCUeaOv"
      },
      "execution_count": 137,
      "outputs": []
    },
    {
      "cell_type": "code",
      "source": [
        "df = pd.concat([df2.drop(['SalePrice'], axis=1), categorical_data, df2['SalePrice']], axis=1)"
      ],
      "metadata": {
        "execution": {
          "iopub.status.busy": "2022-11-13T21:46:36.645906Z",
          "iopub.execute_input": "2022-11-13T21:46:36.647068Z",
          "iopub.status.idle": "2022-11-13T21:46:36.657145Z",
          "shell.execute_reply.started": "2022-11-13T21:46:36.647020Z",
          "shell.execute_reply": "2022-11-13T21:46:36.656033Z"
        },
        "trusted": true,
        "id": "Uu30IGgteaOw"
      },
      "execution_count": 143,
      "outputs": []
    },
    {
      "cell_type": "code",
      "source": [
        "df"
      ],
      "metadata": {
        "execution": {
          "iopub.status.busy": "2022-11-13T21:46:36.658684Z",
          "iopub.execute_input": "2022-11-13T21:46:36.659372Z",
          "iopub.status.idle": "2022-11-13T21:46:36.689910Z",
          "shell.execute_reply.started": "2022-11-13T21:46:36.659321Z",
          "shell.execute_reply": "2022-11-13T21:46:36.688695Z"
        },
        "trusted": true,
        "id": "VdhJZoHLeaOw",
        "outputId": "a1d1c3cc-4a09-4bc1-a213-8de6f877c564",
        "colab": {
          "base_uri": "https://localhost:8080/",
          "height": 519
        }
      },
      "execution_count": 144,
      "outputs": [
        {
          "output_type": "execute_result",
          "data": {
            "text/plain": [
              "      OverallQual  YearRemodAdd  MasVnrArea  TotalBsmtSF  GrLivArea  FullBath  \\\n",
              "Id                                                                              \n",
              "1               7          2003       196.0          856       1710         2   \n",
              "2               6          1976         0.0         1262       1262         2   \n",
              "3               7          2002       162.0          920       1786         2   \n",
              "4               7          1970         0.0          756       1717         1   \n",
              "5               8          2000       350.0         1145       2198         2   \n",
              "...           ...           ...         ...          ...        ...       ...   \n",
              "1456            6          2000         0.0          953       1647         2   \n",
              "1457            6          1988       119.0         1542       2073         2   \n",
              "1458            7          2006         0.0         1152       2340         2   \n",
              "1459            5          1996         0.0         1078       1078         1   \n",
              "1460            5          1965         0.0         1256       1256         1   \n",
              "\n",
              "      TotRmsAbvGrd  Fireplaces  GarageYrBlt  GarageCars  ...  KitchenQual  \\\n",
              "Id                                                       ...                \n",
              "1                8           0       2003.0           2  ...           Gd   \n",
              "2                6           1       1976.0           2  ...           TA   \n",
              "3                6           1       2001.0           2  ...           Gd   \n",
              "4                7           1       1998.0           3  ...           Gd   \n",
              "5                9           1       2000.0           3  ...           Gd   \n",
              "...            ...         ...          ...         ...  ...          ...   \n",
              "1456             7           1       1999.0           2  ...           TA   \n",
              "1457             7           2       1978.0           2  ...           TA   \n",
              "1458             9           2       1941.0           1  ...           Gd   \n",
              "1459             5           0       1950.0           1  ...           Gd   \n",
              "1460             6           0       1965.0           1  ...           TA   \n",
              "\n",
              "     Functional GarageType GarageFinish GarageQual GarageCond PavedDrive  \\\n",
              "Id                                                                         \n",
              "1           Typ     Attchd          RFn         TA         TA          Y   \n",
              "2           Typ     Attchd          RFn         TA         TA          Y   \n",
              "3           Typ     Attchd          RFn         TA         TA          Y   \n",
              "4           Typ     Detchd          Unf         TA         TA          Y   \n",
              "5           Typ     Attchd          RFn         TA         TA          Y   \n",
              "...         ...        ...          ...        ...        ...        ...   \n",
              "1456        Typ     Attchd          RFn         TA         TA          Y   \n",
              "1457       Min1     Attchd          Unf         TA         TA          Y   \n",
              "1458        Typ     Attchd          RFn         TA         TA          Y   \n",
              "1459        Typ     Attchd          Unf         TA         TA          Y   \n",
              "1460        Typ     Attchd          Fin         TA         TA          Y   \n",
              "\n",
              "     SaleType SaleCondition SalePrice  \n",
              "Id                                     \n",
              "1          WD        Normal    208500  \n",
              "2          WD        Normal    181500  \n",
              "3          WD        Normal    223500  \n",
              "4          WD       Abnorml    140000  \n",
              "5          WD        Normal    250000  \n",
              "...       ...           ...       ...  \n",
              "1456       WD        Normal    175000  \n",
              "1457       WD        Normal    210000  \n",
              "1458       WD        Normal    266500  \n",
              "1459       WD        Normal    142125  \n",
              "1460       WD        Normal    147500  \n",
              "\n",
              "[1460 rows x 50 columns]"
            ],
            "text/html": [
              "\n",
              "  <div id=\"df-45d13297-99ee-4984-bf59-812253c784d2\">\n",
              "    <div class=\"colab-df-container\">\n",
              "      <div>\n",
              "<style scoped>\n",
              "    .dataframe tbody tr th:only-of-type {\n",
              "        vertical-align: middle;\n",
              "    }\n",
              "\n",
              "    .dataframe tbody tr th {\n",
              "        vertical-align: top;\n",
              "    }\n",
              "\n",
              "    .dataframe thead th {\n",
              "        text-align: right;\n",
              "    }\n",
              "</style>\n",
              "<table border=\"1\" class=\"dataframe\">\n",
              "  <thead>\n",
              "    <tr style=\"text-align: right;\">\n",
              "      <th></th>\n",
              "      <th>OverallQual</th>\n",
              "      <th>YearRemodAdd</th>\n",
              "      <th>MasVnrArea</th>\n",
              "      <th>TotalBsmtSF</th>\n",
              "      <th>GrLivArea</th>\n",
              "      <th>FullBath</th>\n",
              "      <th>TotRmsAbvGrd</th>\n",
              "      <th>Fireplaces</th>\n",
              "      <th>GarageYrBlt</th>\n",
              "      <th>GarageCars</th>\n",
              "      <th>...</th>\n",
              "      <th>KitchenQual</th>\n",
              "      <th>Functional</th>\n",
              "      <th>GarageType</th>\n",
              "      <th>GarageFinish</th>\n",
              "      <th>GarageQual</th>\n",
              "      <th>GarageCond</th>\n",
              "      <th>PavedDrive</th>\n",
              "      <th>SaleType</th>\n",
              "      <th>SaleCondition</th>\n",
              "      <th>SalePrice</th>\n",
              "    </tr>\n",
              "    <tr>\n",
              "      <th>Id</th>\n",
              "      <th></th>\n",
              "      <th></th>\n",
              "      <th></th>\n",
              "      <th></th>\n",
              "      <th></th>\n",
              "      <th></th>\n",
              "      <th></th>\n",
              "      <th></th>\n",
              "      <th></th>\n",
              "      <th></th>\n",
              "      <th></th>\n",
              "      <th></th>\n",
              "      <th></th>\n",
              "      <th></th>\n",
              "      <th></th>\n",
              "      <th></th>\n",
              "      <th></th>\n",
              "      <th></th>\n",
              "      <th></th>\n",
              "      <th></th>\n",
              "      <th></th>\n",
              "    </tr>\n",
              "  </thead>\n",
              "  <tbody>\n",
              "    <tr>\n",
              "      <th>1</th>\n",
              "      <td>7</td>\n",
              "      <td>2003</td>\n",
              "      <td>196.0</td>\n",
              "      <td>856</td>\n",
              "      <td>1710</td>\n",
              "      <td>2</td>\n",
              "      <td>8</td>\n",
              "      <td>0</td>\n",
              "      <td>2003.0</td>\n",
              "      <td>2</td>\n",
              "      <td>...</td>\n",
              "      <td>Gd</td>\n",
              "      <td>Typ</td>\n",
              "      <td>Attchd</td>\n",
              "      <td>RFn</td>\n",
              "      <td>TA</td>\n",
              "      <td>TA</td>\n",
              "      <td>Y</td>\n",
              "      <td>WD</td>\n",
              "      <td>Normal</td>\n",
              "      <td>208500</td>\n",
              "    </tr>\n",
              "    <tr>\n",
              "      <th>2</th>\n",
              "      <td>6</td>\n",
              "      <td>1976</td>\n",
              "      <td>0.0</td>\n",
              "      <td>1262</td>\n",
              "      <td>1262</td>\n",
              "      <td>2</td>\n",
              "      <td>6</td>\n",
              "      <td>1</td>\n",
              "      <td>1976.0</td>\n",
              "      <td>2</td>\n",
              "      <td>...</td>\n",
              "      <td>TA</td>\n",
              "      <td>Typ</td>\n",
              "      <td>Attchd</td>\n",
              "      <td>RFn</td>\n",
              "      <td>TA</td>\n",
              "      <td>TA</td>\n",
              "      <td>Y</td>\n",
              "      <td>WD</td>\n",
              "      <td>Normal</td>\n",
              "      <td>181500</td>\n",
              "    </tr>\n",
              "    <tr>\n",
              "      <th>3</th>\n",
              "      <td>7</td>\n",
              "      <td>2002</td>\n",
              "      <td>162.0</td>\n",
              "      <td>920</td>\n",
              "      <td>1786</td>\n",
              "      <td>2</td>\n",
              "      <td>6</td>\n",
              "      <td>1</td>\n",
              "      <td>2001.0</td>\n",
              "      <td>2</td>\n",
              "      <td>...</td>\n",
              "      <td>Gd</td>\n",
              "      <td>Typ</td>\n",
              "      <td>Attchd</td>\n",
              "      <td>RFn</td>\n",
              "      <td>TA</td>\n",
              "      <td>TA</td>\n",
              "      <td>Y</td>\n",
              "      <td>WD</td>\n",
              "      <td>Normal</td>\n",
              "      <td>223500</td>\n",
              "    </tr>\n",
              "    <tr>\n",
              "      <th>4</th>\n",
              "      <td>7</td>\n",
              "      <td>1970</td>\n",
              "      <td>0.0</td>\n",
              "      <td>756</td>\n",
              "      <td>1717</td>\n",
              "      <td>1</td>\n",
              "      <td>7</td>\n",
              "      <td>1</td>\n",
              "      <td>1998.0</td>\n",
              "      <td>3</td>\n",
              "      <td>...</td>\n",
              "      <td>Gd</td>\n",
              "      <td>Typ</td>\n",
              "      <td>Detchd</td>\n",
              "      <td>Unf</td>\n",
              "      <td>TA</td>\n",
              "      <td>TA</td>\n",
              "      <td>Y</td>\n",
              "      <td>WD</td>\n",
              "      <td>Abnorml</td>\n",
              "      <td>140000</td>\n",
              "    </tr>\n",
              "    <tr>\n",
              "      <th>5</th>\n",
              "      <td>8</td>\n",
              "      <td>2000</td>\n",
              "      <td>350.0</td>\n",
              "      <td>1145</td>\n",
              "      <td>2198</td>\n",
              "      <td>2</td>\n",
              "      <td>9</td>\n",
              "      <td>1</td>\n",
              "      <td>2000.0</td>\n",
              "      <td>3</td>\n",
              "      <td>...</td>\n",
              "      <td>Gd</td>\n",
              "      <td>Typ</td>\n",
              "      <td>Attchd</td>\n",
              "      <td>RFn</td>\n",
              "      <td>TA</td>\n",
              "      <td>TA</td>\n",
              "      <td>Y</td>\n",
              "      <td>WD</td>\n",
              "      <td>Normal</td>\n",
              "      <td>250000</td>\n",
              "    </tr>\n",
              "    <tr>\n",
              "      <th>...</th>\n",
              "      <td>...</td>\n",
              "      <td>...</td>\n",
              "      <td>...</td>\n",
              "      <td>...</td>\n",
              "      <td>...</td>\n",
              "      <td>...</td>\n",
              "      <td>...</td>\n",
              "      <td>...</td>\n",
              "      <td>...</td>\n",
              "      <td>...</td>\n",
              "      <td>...</td>\n",
              "      <td>...</td>\n",
              "      <td>...</td>\n",
              "      <td>...</td>\n",
              "      <td>...</td>\n",
              "      <td>...</td>\n",
              "      <td>...</td>\n",
              "      <td>...</td>\n",
              "      <td>...</td>\n",
              "      <td>...</td>\n",
              "      <td>...</td>\n",
              "    </tr>\n",
              "    <tr>\n",
              "      <th>1456</th>\n",
              "      <td>6</td>\n",
              "      <td>2000</td>\n",
              "      <td>0.0</td>\n",
              "      <td>953</td>\n",
              "      <td>1647</td>\n",
              "      <td>2</td>\n",
              "      <td>7</td>\n",
              "      <td>1</td>\n",
              "      <td>1999.0</td>\n",
              "      <td>2</td>\n",
              "      <td>...</td>\n",
              "      <td>TA</td>\n",
              "      <td>Typ</td>\n",
              "      <td>Attchd</td>\n",
              "      <td>RFn</td>\n",
              "      <td>TA</td>\n",
              "      <td>TA</td>\n",
              "      <td>Y</td>\n",
              "      <td>WD</td>\n",
              "      <td>Normal</td>\n",
              "      <td>175000</td>\n",
              "    </tr>\n",
              "    <tr>\n",
              "      <th>1457</th>\n",
              "      <td>6</td>\n",
              "      <td>1988</td>\n",
              "      <td>119.0</td>\n",
              "      <td>1542</td>\n",
              "      <td>2073</td>\n",
              "      <td>2</td>\n",
              "      <td>7</td>\n",
              "      <td>2</td>\n",
              "      <td>1978.0</td>\n",
              "      <td>2</td>\n",
              "      <td>...</td>\n",
              "      <td>TA</td>\n",
              "      <td>Min1</td>\n",
              "      <td>Attchd</td>\n",
              "      <td>Unf</td>\n",
              "      <td>TA</td>\n",
              "      <td>TA</td>\n",
              "      <td>Y</td>\n",
              "      <td>WD</td>\n",
              "      <td>Normal</td>\n",
              "      <td>210000</td>\n",
              "    </tr>\n",
              "    <tr>\n",
              "      <th>1458</th>\n",
              "      <td>7</td>\n",
              "      <td>2006</td>\n",
              "      <td>0.0</td>\n",
              "      <td>1152</td>\n",
              "      <td>2340</td>\n",
              "      <td>2</td>\n",
              "      <td>9</td>\n",
              "      <td>2</td>\n",
              "      <td>1941.0</td>\n",
              "      <td>1</td>\n",
              "      <td>...</td>\n",
              "      <td>Gd</td>\n",
              "      <td>Typ</td>\n",
              "      <td>Attchd</td>\n",
              "      <td>RFn</td>\n",
              "      <td>TA</td>\n",
              "      <td>TA</td>\n",
              "      <td>Y</td>\n",
              "      <td>WD</td>\n",
              "      <td>Normal</td>\n",
              "      <td>266500</td>\n",
              "    </tr>\n",
              "    <tr>\n",
              "      <th>1459</th>\n",
              "      <td>5</td>\n",
              "      <td>1996</td>\n",
              "      <td>0.0</td>\n",
              "      <td>1078</td>\n",
              "      <td>1078</td>\n",
              "      <td>1</td>\n",
              "      <td>5</td>\n",
              "      <td>0</td>\n",
              "      <td>1950.0</td>\n",
              "      <td>1</td>\n",
              "      <td>...</td>\n",
              "      <td>Gd</td>\n",
              "      <td>Typ</td>\n",
              "      <td>Attchd</td>\n",
              "      <td>Unf</td>\n",
              "      <td>TA</td>\n",
              "      <td>TA</td>\n",
              "      <td>Y</td>\n",
              "      <td>WD</td>\n",
              "      <td>Normal</td>\n",
              "      <td>142125</td>\n",
              "    </tr>\n",
              "    <tr>\n",
              "      <th>1460</th>\n",
              "      <td>5</td>\n",
              "      <td>1965</td>\n",
              "      <td>0.0</td>\n",
              "      <td>1256</td>\n",
              "      <td>1256</td>\n",
              "      <td>1</td>\n",
              "      <td>6</td>\n",
              "      <td>0</td>\n",
              "      <td>1965.0</td>\n",
              "      <td>1</td>\n",
              "      <td>...</td>\n",
              "      <td>TA</td>\n",
              "      <td>Typ</td>\n",
              "      <td>Attchd</td>\n",
              "      <td>Fin</td>\n",
              "      <td>TA</td>\n",
              "      <td>TA</td>\n",
              "      <td>Y</td>\n",
              "      <td>WD</td>\n",
              "      <td>Normal</td>\n",
              "      <td>147500</td>\n",
              "    </tr>\n",
              "  </tbody>\n",
              "</table>\n",
              "<p>1460 rows × 50 columns</p>\n",
              "</div>\n",
              "      <button class=\"colab-df-convert\" onclick=\"convertToInteractive('df-45d13297-99ee-4984-bf59-812253c784d2')\"\n",
              "              title=\"Convert this dataframe to an interactive table.\"\n",
              "              style=\"display:none;\">\n",
              "        \n",
              "  <svg xmlns=\"http://www.w3.org/2000/svg\" height=\"24px\"viewBox=\"0 0 24 24\"\n",
              "       width=\"24px\">\n",
              "    <path d=\"M0 0h24v24H0V0z\" fill=\"none\"/>\n",
              "    <path d=\"M18.56 5.44l.94 2.06.94-2.06 2.06-.94-2.06-.94-.94-2.06-.94 2.06-2.06.94zm-11 1L8.5 8.5l.94-2.06 2.06-.94-2.06-.94L8.5 2.5l-.94 2.06-2.06.94zm10 10l.94 2.06.94-2.06 2.06-.94-2.06-.94-.94-2.06-.94 2.06-2.06.94z\"/><path d=\"M17.41 7.96l-1.37-1.37c-.4-.4-.92-.59-1.43-.59-.52 0-1.04.2-1.43.59L10.3 9.45l-7.72 7.72c-.78.78-.78 2.05 0 2.83L4 21.41c.39.39.9.59 1.41.59.51 0 1.02-.2 1.41-.59l7.78-7.78 2.81-2.81c.8-.78.8-2.07 0-2.86zM5.41 20L4 18.59l7.72-7.72 1.47 1.35L5.41 20z\"/>\n",
              "  </svg>\n",
              "      </button>\n",
              "      \n",
              "  <style>\n",
              "    .colab-df-container {\n",
              "      display:flex;\n",
              "      flex-wrap:wrap;\n",
              "      gap: 12px;\n",
              "    }\n",
              "\n",
              "    .colab-df-convert {\n",
              "      background-color: #E8F0FE;\n",
              "      border: none;\n",
              "      border-radius: 50%;\n",
              "      cursor: pointer;\n",
              "      display: none;\n",
              "      fill: #1967D2;\n",
              "      height: 32px;\n",
              "      padding: 0 0 0 0;\n",
              "      width: 32px;\n",
              "    }\n",
              "\n",
              "    .colab-df-convert:hover {\n",
              "      background-color: #E2EBFA;\n",
              "      box-shadow: 0px 1px 2px rgba(60, 64, 67, 0.3), 0px 1px 3px 1px rgba(60, 64, 67, 0.15);\n",
              "      fill: #174EA6;\n",
              "    }\n",
              "\n",
              "    [theme=dark] .colab-df-convert {\n",
              "      background-color: #3B4455;\n",
              "      fill: #D2E3FC;\n",
              "    }\n",
              "\n",
              "    [theme=dark] .colab-df-convert:hover {\n",
              "      background-color: #434B5C;\n",
              "      box-shadow: 0px 1px 3px 1px rgba(0, 0, 0, 0.15);\n",
              "      filter: drop-shadow(0px 1px 2px rgba(0, 0, 0, 0.3));\n",
              "      fill: #FFFFFF;\n",
              "    }\n",
              "  </style>\n",
              "\n",
              "      <script>\n",
              "        const buttonEl =\n",
              "          document.querySelector('#df-45d13297-99ee-4984-bf59-812253c784d2 button.colab-df-convert');\n",
              "        buttonEl.style.display =\n",
              "          google.colab.kernel.accessAllowed ? 'block' : 'none';\n",
              "\n",
              "        async function convertToInteractive(key) {\n",
              "          const element = document.querySelector('#df-45d13297-99ee-4984-bf59-812253c784d2');\n",
              "          const dataTable =\n",
              "            await google.colab.kernel.invokeFunction('convertToInteractive',\n",
              "                                                     [key], {});\n",
              "          if (!dataTable) return;\n",
              "\n",
              "          const docLinkHtml = 'Like what you see? Visit the ' +\n",
              "            '<a target=\"_blank\" href=https://colab.research.google.com/notebooks/data_table.ipynb>data table notebook</a>'\n",
              "            + ' to learn more about interactive tables.';\n",
              "          element.innerHTML = '';\n",
              "          dataTable['output_type'] = 'display_data';\n",
              "          await google.colab.output.renderOutput(dataTable, element);\n",
              "          const docLink = document.createElement('div');\n",
              "          docLink.innerHTML = docLinkHtml;\n",
              "          element.appendChild(docLink);\n",
              "        }\n",
              "      </script>\n",
              "    </div>\n",
              "  </div>\n",
              "  "
            ]
          },
          "metadata": {},
          "execution_count": 144
        }
      ]
    },
    {
      "cell_type": "code",
      "source": [
        "df.columns"
      ],
      "metadata": {
        "colab": {
          "base_uri": "https://localhost:8080/"
        },
        "id": "E2q_BdfBYMCu",
        "outputId": "612d96ac-641f-406a-bafa-d52ab0002271"
      },
      "execution_count": 145,
      "outputs": [
        {
          "output_type": "execute_result",
          "data": {
            "text/plain": [
              "Index(['OverallQual', 'YearRemodAdd', 'MasVnrArea', 'TotalBsmtSF', 'GrLivArea',\n",
              "       'FullBath', 'TotRmsAbvGrd', 'Fireplaces', 'GarageYrBlt', 'GarageCars',\n",
              "       'YearRetained', 'MSZoning', 'Street', 'LotShape', 'LandContour',\n",
              "       'Utilities', 'LotConfig', 'LandSlope', 'Neighborhood', 'Condition1',\n",
              "       'Condition2', 'BldgType', 'HouseStyle', 'RoofStyle', 'RoofMatl',\n",
              "       'Exterior1st', 'Exterior2nd', 'MasVnrType', 'ExterQual', 'ExterCond',\n",
              "       'Foundation', 'BsmtQual', 'BsmtCond', 'BsmtExposure', 'BsmtFinType1',\n",
              "       'BsmtFinType2', 'Heating', 'HeatingQC', 'CentralAir', 'Electrical',\n",
              "       'KitchenQual', 'Functional', 'GarageType', 'GarageFinish', 'GarageQual',\n",
              "       'GarageCond', 'PavedDrive', 'SaleType', 'SaleCondition', 'SalePrice'],\n",
              "      dtype='object')"
            ]
          },
          "metadata": {},
          "execution_count": 145
        }
      ]
    },
    {
      "cell_type": "code",
      "source": [
        "numerical_features = df.select_dtypes(include=[np.number])"
      ],
      "metadata": {
        "id": "DL9IJIxCYOp9"
      },
      "execution_count": 149,
      "outputs": []
    },
    {
      "cell_type": "code",
      "source": [
        "numerical_features"
      ],
      "metadata": {
        "colab": {
          "base_uri": "https://localhost:8080/",
          "height": 455
        },
        "id": "NrR28WUsYaay",
        "outputId": "c81330f6-916d-4a7a-d01a-e6335edee65f"
      },
      "execution_count": 150,
      "outputs": [
        {
          "output_type": "execute_result",
          "data": {
            "text/plain": [
              "      OverallQual  YearRemodAdd  MasVnrArea  TotalBsmtSF  GrLivArea  FullBath  \\\n",
              "Id                                                                              \n",
              "1               7          2003       196.0          856       1710         2   \n",
              "2               6          1976         0.0         1262       1262         2   \n",
              "3               7          2002       162.0          920       1786         2   \n",
              "4               7          1970         0.0          756       1717         1   \n",
              "5               8          2000       350.0         1145       2198         2   \n",
              "...           ...           ...         ...          ...        ...       ...   \n",
              "1456            6          2000         0.0          953       1647         2   \n",
              "1457            6          1988       119.0         1542       2073         2   \n",
              "1458            7          2006         0.0         1152       2340         2   \n",
              "1459            5          1996         0.0         1078       1078         1   \n",
              "1460            5          1965         0.0         1256       1256         1   \n",
              "\n",
              "      TotRmsAbvGrd  Fireplaces  GarageYrBlt  GarageCars  YearRetained  \\\n",
              "Id                                                                      \n",
              "1                8           0       2003.0           2            -5   \n",
              "2                6           1       1976.0           2           -31   \n",
              "3                6           1       2001.0           2            -7   \n",
              "4                7           1       1998.0           3           -91   \n",
              "5                9           1       2000.0           3            -8   \n",
              "...            ...         ...          ...         ...           ...   \n",
              "1456             7           1       1999.0           2            -8   \n",
              "1457             7           2       1978.0           2           -32   \n",
              "1458             9           2       1941.0           1           -69   \n",
              "1459             5           0       1950.0           1           -60   \n",
              "1460             6           0       1965.0           1           -43   \n",
              "\n",
              "      SalePrice  \n",
              "Id               \n",
              "1        208500  \n",
              "2        181500  \n",
              "3        223500  \n",
              "4        140000  \n",
              "5        250000  \n",
              "...         ...  \n",
              "1456     175000  \n",
              "1457     210000  \n",
              "1458     266500  \n",
              "1459     142125  \n",
              "1460     147500  \n",
              "\n",
              "[1460 rows x 12 columns]"
            ],
            "text/html": [
              "\n",
              "  <div id=\"df-83b4a20c-ac58-42d6-b441-4316c97cf3c7\">\n",
              "    <div class=\"colab-df-container\">\n",
              "      <div>\n",
              "<style scoped>\n",
              "    .dataframe tbody tr th:only-of-type {\n",
              "        vertical-align: middle;\n",
              "    }\n",
              "\n",
              "    .dataframe tbody tr th {\n",
              "        vertical-align: top;\n",
              "    }\n",
              "\n",
              "    .dataframe thead th {\n",
              "        text-align: right;\n",
              "    }\n",
              "</style>\n",
              "<table border=\"1\" class=\"dataframe\">\n",
              "  <thead>\n",
              "    <tr style=\"text-align: right;\">\n",
              "      <th></th>\n",
              "      <th>OverallQual</th>\n",
              "      <th>YearRemodAdd</th>\n",
              "      <th>MasVnrArea</th>\n",
              "      <th>TotalBsmtSF</th>\n",
              "      <th>GrLivArea</th>\n",
              "      <th>FullBath</th>\n",
              "      <th>TotRmsAbvGrd</th>\n",
              "      <th>Fireplaces</th>\n",
              "      <th>GarageYrBlt</th>\n",
              "      <th>GarageCars</th>\n",
              "      <th>YearRetained</th>\n",
              "      <th>SalePrice</th>\n",
              "    </tr>\n",
              "    <tr>\n",
              "      <th>Id</th>\n",
              "      <th></th>\n",
              "      <th></th>\n",
              "      <th></th>\n",
              "      <th></th>\n",
              "      <th></th>\n",
              "      <th></th>\n",
              "      <th></th>\n",
              "      <th></th>\n",
              "      <th></th>\n",
              "      <th></th>\n",
              "      <th></th>\n",
              "      <th></th>\n",
              "    </tr>\n",
              "  </thead>\n",
              "  <tbody>\n",
              "    <tr>\n",
              "      <th>1</th>\n",
              "      <td>7</td>\n",
              "      <td>2003</td>\n",
              "      <td>196.0</td>\n",
              "      <td>856</td>\n",
              "      <td>1710</td>\n",
              "      <td>2</td>\n",
              "      <td>8</td>\n",
              "      <td>0</td>\n",
              "      <td>2003.0</td>\n",
              "      <td>2</td>\n",
              "      <td>-5</td>\n",
              "      <td>208500</td>\n",
              "    </tr>\n",
              "    <tr>\n",
              "      <th>2</th>\n",
              "      <td>6</td>\n",
              "      <td>1976</td>\n",
              "      <td>0.0</td>\n",
              "      <td>1262</td>\n",
              "      <td>1262</td>\n",
              "      <td>2</td>\n",
              "      <td>6</td>\n",
              "      <td>1</td>\n",
              "      <td>1976.0</td>\n",
              "      <td>2</td>\n",
              "      <td>-31</td>\n",
              "      <td>181500</td>\n",
              "    </tr>\n",
              "    <tr>\n",
              "      <th>3</th>\n",
              "      <td>7</td>\n",
              "      <td>2002</td>\n",
              "      <td>162.0</td>\n",
              "      <td>920</td>\n",
              "      <td>1786</td>\n",
              "      <td>2</td>\n",
              "      <td>6</td>\n",
              "      <td>1</td>\n",
              "      <td>2001.0</td>\n",
              "      <td>2</td>\n",
              "      <td>-7</td>\n",
              "      <td>223500</td>\n",
              "    </tr>\n",
              "    <tr>\n",
              "      <th>4</th>\n",
              "      <td>7</td>\n",
              "      <td>1970</td>\n",
              "      <td>0.0</td>\n",
              "      <td>756</td>\n",
              "      <td>1717</td>\n",
              "      <td>1</td>\n",
              "      <td>7</td>\n",
              "      <td>1</td>\n",
              "      <td>1998.0</td>\n",
              "      <td>3</td>\n",
              "      <td>-91</td>\n",
              "      <td>140000</td>\n",
              "    </tr>\n",
              "    <tr>\n",
              "      <th>5</th>\n",
              "      <td>8</td>\n",
              "      <td>2000</td>\n",
              "      <td>350.0</td>\n",
              "      <td>1145</td>\n",
              "      <td>2198</td>\n",
              "      <td>2</td>\n",
              "      <td>9</td>\n",
              "      <td>1</td>\n",
              "      <td>2000.0</td>\n",
              "      <td>3</td>\n",
              "      <td>-8</td>\n",
              "      <td>250000</td>\n",
              "    </tr>\n",
              "    <tr>\n",
              "      <th>...</th>\n",
              "      <td>...</td>\n",
              "      <td>...</td>\n",
              "      <td>...</td>\n",
              "      <td>...</td>\n",
              "      <td>...</td>\n",
              "      <td>...</td>\n",
              "      <td>...</td>\n",
              "      <td>...</td>\n",
              "      <td>...</td>\n",
              "      <td>...</td>\n",
              "      <td>...</td>\n",
              "      <td>...</td>\n",
              "    </tr>\n",
              "    <tr>\n",
              "      <th>1456</th>\n",
              "      <td>6</td>\n",
              "      <td>2000</td>\n",
              "      <td>0.0</td>\n",
              "      <td>953</td>\n",
              "      <td>1647</td>\n",
              "      <td>2</td>\n",
              "      <td>7</td>\n",
              "      <td>1</td>\n",
              "      <td>1999.0</td>\n",
              "      <td>2</td>\n",
              "      <td>-8</td>\n",
              "      <td>175000</td>\n",
              "    </tr>\n",
              "    <tr>\n",
              "      <th>1457</th>\n",
              "      <td>6</td>\n",
              "      <td>1988</td>\n",
              "      <td>119.0</td>\n",
              "      <td>1542</td>\n",
              "      <td>2073</td>\n",
              "      <td>2</td>\n",
              "      <td>7</td>\n",
              "      <td>2</td>\n",
              "      <td>1978.0</td>\n",
              "      <td>2</td>\n",
              "      <td>-32</td>\n",
              "      <td>210000</td>\n",
              "    </tr>\n",
              "    <tr>\n",
              "      <th>1458</th>\n",
              "      <td>7</td>\n",
              "      <td>2006</td>\n",
              "      <td>0.0</td>\n",
              "      <td>1152</td>\n",
              "      <td>2340</td>\n",
              "      <td>2</td>\n",
              "      <td>9</td>\n",
              "      <td>2</td>\n",
              "      <td>1941.0</td>\n",
              "      <td>1</td>\n",
              "      <td>-69</td>\n",
              "      <td>266500</td>\n",
              "    </tr>\n",
              "    <tr>\n",
              "      <th>1459</th>\n",
              "      <td>5</td>\n",
              "      <td>1996</td>\n",
              "      <td>0.0</td>\n",
              "      <td>1078</td>\n",
              "      <td>1078</td>\n",
              "      <td>1</td>\n",
              "      <td>5</td>\n",
              "      <td>0</td>\n",
              "      <td>1950.0</td>\n",
              "      <td>1</td>\n",
              "      <td>-60</td>\n",
              "      <td>142125</td>\n",
              "    </tr>\n",
              "    <tr>\n",
              "      <th>1460</th>\n",
              "      <td>5</td>\n",
              "      <td>1965</td>\n",
              "      <td>0.0</td>\n",
              "      <td>1256</td>\n",
              "      <td>1256</td>\n",
              "      <td>1</td>\n",
              "      <td>6</td>\n",
              "      <td>0</td>\n",
              "      <td>1965.0</td>\n",
              "      <td>1</td>\n",
              "      <td>-43</td>\n",
              "      <td>147500</td>\n",
              "    </tr>\n",
              "  </tbody>\n",
              "</table>\n",
              "<p>1460 rows × 12 columns</p>\n",
              "</div>\n",
              "      <button class=\"colab-df-convert\" onclick=\"convertToInteractive('df-83b4a20c-ac58-42d6-b441-4316c97cf3c7')\"\n",
              "              title=\"Convert this dataframe to an interactive table.\"\n",
              "              style=\"display:none;\">\n",
              "        \n",
              "  <svg xmlns=\"http://www.w3.org/2000/svg\" height=\"24px\"viewBox=\"0 0 24 24\"\n",
              "       width=\"24px\">\n",
              "    <path d=\"M0 0h24v24H0V0z\" fill=\"none\"/>\n",
              "    <path d=\"M18.56 5.44l.94 2.06.94-2.06 2.06-.94-2.06-.94-.94-2.06-.94 2.06-2.06.94zm-11 1L8.5 8.5l.94-2.06 2.06-.94-2.06-.94L8.5 2.5l-.94 2.06-2.06.94zm10 10l.94 2.06.94-2.06 2.06-.94-2.06-.94-.94-2.06-.94 2.06-2.06.94z\"/><path d=\"M17.41 7.96l-1.37-1.37c-.4-.4-.92-.59-1.43-.59-.52 0-1.04.2-1.43.59L10.3 9.45l-7.72 7.72c-.78.78-.78 2.05 0 2.83L4 21.41c.39.39.9.59 1.41.59.51 0 1.02-.2 1.41-.59l7.78-7.78 2.81-2.81c.8-.78.8-2.07 0-2.86zM5.41 20L4 18.59l7.72-7.72 1.47 1.35L5.41 20z\"/>\n",
              "  </svg>\n",
              "      </button>\n",
              "      \n",
              "  <style>\n",
              "    .colab-df-container {\n",
              "      display:flex;\n",
              "      flex-wrap:wrap;\n",
              "      gap: 12px;\n",
              "    }\n",
              "\n",
              "    .colab-df-convert {\n",
              "      background-color: #E8F0FE;\n",
              "      border: none;\n",
              "      border-radius: 50%;\n",
              "      cursor: pointer;\n",
              "      display: none;\n",
              "      fill: #1967D2;\n",
              "      height: 32px;\n",
              "      padding: 0 0 0 0;\n",
              "      width: 32px;\n",
              "    }\n",
              "\n",
              "    .colab-df-convert:hover {\n",
              "      background-color: #E2EBFA;\n",
              "      box-shadow: 0px 1px 2px rgba(60, 64, 67, 0.3), 0px 1px 3px 1px rgba(60, 64, 67, 0.15);\n",
              "      fill: #174EA6;\n",
              "    }\n",
              "\n",
              "    [theme=dark] .colab-df-convert {\n",
              "      background-color: #3B4455;\n",
              "      fill: #D2E3FC;\n",
              "    }\n",
              "\n",
              "    [theme=dark] .colab-df-convert:hover {\n",
              "      background-color: #434B5C;\n",
              "      box-shadow: 0px 1px 3px 1px rgba(0, 0, 0, 0.15);\n",
              "      filter: drop-shadow(0px 1px 2px rgba(0, 0, 0, 0.3));\n",
              "      fill: #FFFFFF;\n",
              "    }\n",
              "  </style>\n",
              "\n",
              "      <script>\n",
              "        const buttonEl =\n",
              "          document.querySelector('#df-83b4a20c-ac58-42d6-b441-4316c97cf3c7 button.colab-df-convert');\n",
              "        buttonEl.style.display =\n",
              "          google.colab.kernel.accessAllowed ? 'block' : 'none';\n",
              "\n",
              "        async function convertToInteractive(key) {\n",
              "          const element = document.querySelector('#df-83b4a20c-ac58-42d6-b441-4316c97cf3c7');\n",
              "          const dataTable =\n",
              "            await google.colab.kernel.invokeFunction('convertToInteractive',\n",
              "                                                     [key], {});\n",
              "          if (!dataTable) return;\n",
              "\n",
              "          const docLinkHtml = 'Like what you see? Visit the ' +\n",
              "            '<a target=\"_blank\" href=https://colab.research.google.com/notebooks/data_table.ipynb>data table notebook</a>'\n",
              "            + ' to learn more about interactive tables.';\n",
              "          element.innerHTML = '';\n",
              "          dataTable['output_type'] = 'display_data';\n",
              "          await google.colab.output.renderOutput(dataTable, element);\n",
              "          const docLink = document.createElement('div');\n",
              "          docLink.innerHTML = docLinkHtml;\n",
              "          element.appendChild(docLink);\n",
              "        }\n",
              "      </script>\n",
              "    </div>\n",
              "  </div>\n",
              "  "
            ]
          },
          "metadata": {},
          "execution_count": 150
        }
      ]
    },
    {
      "cell_type": "code",
      "source": [
        "categorical_data = df.select_dtypes(exclude=[np.number])"
      ],
      "metadata": {
        "id": "eCc6ZLtoYY7S"
      },
      "execution_count": 151,
      "outputs": []
    },
    {
      "cell_type": "markdown",
      "source": [
        "We have reduced the features from 80 to 49 by performing EDA, 11 numerical features and 38 categorical features, which is a significant reduction."
      ],
      "metadata": {
        "id": "wEzfZn0kI4Cv"
      }
    },
    {
      "cell_type": "markdown",
      "source": [
        "## Applying Feature Engineering"
      ],
      "metadata": {
        "id": "KLnltDJneaOw"
      }
    },
    {
      "cell_type": "code",
      "source": [
        "df.info()"
      ],
      "metadata": {
        "execution": {
          "iopub.status.busy": "2022-11-13T21:46:36.691683Z",
          "iopub.execute_input": "2022-11-13T21:46:36.692105Z",
          "iopub.status.idle": "2022-11-13T21:46:36.712557Z",
          "shell.execute_reply.started": "2022-11-13T21:46:36.692073Z",
          "shell.execute_reply": "2022-11-13T21:46:36.711415Z"
        },
        "trusted": true,
        "id": "LZC5RNhxeaO2",
        "outputId": "eb0967a9-2438-461a-cfaf-611984083dff",
        "colab": {
          "base_uri": "https://localhost:8080/"
        }
      },
      "execution_count": 152,
      "outputs": [
        {
          "output_type": "stream",
          "name": "stdout",
          "text": [
            "<class 'pandas.core.frame.DataFrame'>\n",
            "Int64Index: 1460 entries, 1 to 1460\n",
            "Data columns (total 50 columns):\n",
            " #   Column         Non-Null Count  Dtype  \n",
            "---  ------         --------------  -----  \n",
            " 0   OverallQual    1460 non-null   int64  \n",
            " 1   YearRemodAdd   1460 non-null   int64  \n",
            " 2   MasVnrArea     1452 non-null   float64\n",
            " 3   TotalBsmtSF    1460 non-null   int64  \n",
            " 4   GrLivArea      1460 non-null   int64  \n",
            " 5   FullBath       1460 non-null   int64  \n",
            " 6   TotRmsAbvGrd   1460 non-null   int64  \n",
            " 7   Fireplaces     1460 non-null   int64  \n",
            " 8   GarageYrBlt    1379 non-null   float64\n",
            " 9   GarageCars     1460 non-null   int64  \n",
            " 10  YearRetained   1460 non-null   int64  \n",
            " 11  MSZoning       1460 non-null   object \n",
            " 12  Street         1460 non-null   object \n",
            " 13  LotShape       1460 non-null   object \n",
            " 14  LandContour    1460 non-null   object \n",
            " 15  Utilities      1460 non-null   object \n",
            " 16  LotConfig      1460 non-null   object \n",
            " 17  LandSlope      1460 non-null   object \n",
            " 18  Neighborhood   1460 non-null   object \n",
            " 19  Condition1     1460 non-null   object \n",
            " 20  Condition2     1460 non-null   object \n",
            " 21  BldgType       1460 non-null   object \n",
            " 22  HouseStyle     1460 non-null   object \n",
            " 23  RoofStyle      1460 non-null   object \n",
            " 24  RoofMatl       1460 non-null   object \n",
            " 25  Exterior1st    1460 non-null   object \n",
            " 26  Exterior2nd    1460 non-null   object \n",
            " 27  MasVnrType     1452 non-null   object \n",
            " 28  ExterQual      1460 non-null   object \n",
            " 29  ExterCond      1460 non-null   object \n",
            " 30  Foundation     1460 non-null   object \n",
            " 31  BsmtQual       1423 non-null   object \n",
            " 32  BsmtCond       1423 non-null   object \n",
            " 33  BsmtExposure   1422 non-null   object \n",
            " 34  BsmtFinType1   1423 non-null   object \n",
            " 35  BsmtFinType2   1422 non-null   object \n",
            " 36  Heating        1460 non-null   object \n",
            " 37  HeatingQC      1460 non-null   object \n",
            " 38  CentralAir     1460 non-null   object \n",
            " 39  Electrical     1459 non-null   object \n",
            " 40  KitchenQual    1460 non-null   object \n",
            " 41  Functional     1460 non-null   object \n",
            " 42  GarageType     1379 non-null   object \n",
            " 43  GarageFinish   1379 non-null   object \n",
            " 44  GarageQual     1379 non-null   object \n",
            " 45  GarageCond     1379 non-null   object \n",
            " 46  PavedDrive     1460 non-null   object \n",
            " 47  SaleType       1460 non-null   object \n",
            " 48  SaleCondition  1460 non-null   object \n",
            " 49  SalePrice      1460 non-null   int64  \n",
            "dtypes: float64(2), int64(10), object(38)\n",
            "memory usage: 581.7+ KB\n"
          ]
        }
      ]
    },
    {
      "cell_type": "code",
      "source": [
        "x= df.iloc[:,0:49]\n",
        "y= df.iloc[:,-1]"
      ],
      "metadata": {
        "execution": {
          "iopub.status.busy": "2022-11-13T21:46:36.713856Z",
          "iopub.execute_input": "2022-11-13T21:46:36.714162Z",
          "iopub.status.idle": "2022-11-13T21:46:36.721178Z",
          "shell.execute_reply.started": "2022-11-13T21:46:36.714133Z",
          "shell.execute_reply": "2022-11-13T21:46:36.720115Z"
        },
        "trusted": true,
        "id": "DveiLOxxeaO3"
      },
      "execution_count": 255,
      "outputs": []
    },
    {
      "cell_type": "code",
      "source": [
        "sns.histplot(y, kde=True)"
      ],
      "metadata": {
        "execution": {
          "iopub.status.busy": "2022-11-13T21:46:36.722720Z",
          "iopub.execute_input": "2022-11-13T21:46:36.723157Z",
          "iopub.status.idle": "2022-11-13T21:46:37.010314Z",
          "shell.execute_reply.started": "2022-11-13T21:46:36.723097Z",
          "shell.execute_reply": "2022-11-13T21:46:37.009164Z"
        },
        "trusted": true,
        "id": "KQw_zb28eaO3",
        "outputId": "a867695f-8b2c-42ae-e5e9-0d29035dcc08",
        "colab": {
          "base_uri": "https://localhost:8080/",
          "height": 296
        }
      },
      "execution_count": 256,
      "outputs": [
        {
          "output_type": "execute_result",
          "data": {
            "text/plain": [
              "<matplotlib.axes._subplots.AxesSubplot at 0x7f0c515c3310>"
            ]
          },
          "metadata": {},
          "execution_count": 256
        },
        {
          "output_type": "display_data",
          "data": {
            "text/plain": [
              "<Figure size 432x288 with 1 Axes>"
            ],
            "image/png": "[encoded data removed]"
          },
          "metadata": {
            "needs_background": "light"
          }
        }
      ]
    },
    {
      "cell_type": "code",
      "source": [
        "print(y.skew())\n",
        "print(y.kurtosis())"
      ],
      "metadata": {
        "execution": {
          "iopub.status.busy": "2022-11-13T21:46:37.011991Z",
          "iopub.execute_input": "2022-11-13T21:46:37.012366Z",
          "iopub.status.idle": "2022-11-13T21:46:37.018502Z",
          "shell.execute_reply.started": "2022-11-13T21:46:37.012332Z",
          "shell.execute_reply": "2022-11-13T21:46:37.017416Z"
        },
        "trusted": true,
        "id": "RP1nbb1ueaO3",
        "outputId": "f840e382-3f69-4738-d25b-c25bb915c8c2",
        "colab": {
          "base_uri": "https://localhost:8080/"
        }
      },
      "execution_count": 257,
      "outputs": [
        {
          "output_type": "stream",
          "name": "stdout",
          "text": [
            "1.8828757597682129\n",
            "6.536281860064529\n"
          ]
        }
      ]
    },
    {
      "cell_type": "code",
      "source": [
        "from sklearn.preprocessing import FunctionTransformer\n",
        "trf = FunctionTransformer(np.log1p)\n",
        "\n",
        "y = trf.fit_transform(y)"
      ],
      "metadata": {
        "execution": {
          "iopub.status.busy": "2022-11-13T21:46:37.019925Z",
          "iopub.execute_input": "2022-11-13T21:46:37.020338Z",
          "iopub.status.idle": "2022-11-13T21:46:37.029523Z",
          "shell.execute_reply.started": "2022-11-13T21:46:37.020297Z",
          "shell.execute_reply": "2022-11-13T21:46:37.028539Z"
        },
        "trusted": true,
        "id": "WUQOtDA0eaO3"
      },
      "execution_count": 258,
      "outputs": []
    },
    {
      "cell_type": "code",
      "source": [
        "sns.histplot(y, kde=True)"
      ],
      "metadata": {
        "execution": {
          "iopub.status.busy": "2022-11-13T21:46:37.030986Z",
          "iopub.execute_input": "2022-11-13T21:46:37.031382Z",
          "iopub.status.idle": "2022-11-13T21:46:37.287587Z",
          "shell.execute_reply.started": "2022-11-13T21:46:37.031347Z",
          "shell.execute_reply": "2022-11-13T21:46:37.286058Z"
        },
        "trusted": true,
        "id": "ewSOn725eaO4",
        "outputId": "2c8a1559-07ce-45aa-bd81-e59e939992fb",
        "colab": {
          "base_uri": "https://localhost:8080/",
          "height": 296
        }
      },
      "execution_count": 259,
      "outputs": [
        {
          "output_type": "execute_result",
          "data": {
            "text/plain": [
              "<matplotlib.axes._subplots.AxesSubplot at 0x7f0c4e261af0>"
            ]
          },
          "metadata": {},
          "execution_count": 259
        },
        {
          "output_type": "display_data",
          "data": {
            "text/plain": [
              "<Figure size 432x288 with 1 Axes>"
            ],
            "image/png": "[encoded data removed]"
          },
          "metadata": {
            "needs_background": "light"
          }
        }
      ]
    },
    {
      "cell_type": "code",
      "source": [
        "numerical_features= x.select_dtypes(include=[np.number])\n",
        "categorical_features = x.select_dtypes(exclude=[np.number])"
      ],
      "metadata": {
        "execution": {
          "iopub.status.busy": "2022-11-13T21:46:37.289216Z",
          "iopub.execute_input": "2022-11-13T21:46:37.290216Z",
          "iopub.status.idle": "2022-11-13T21:46:37.300610Z",
          "shell.execute_reply.started": "2022-11-13T21:46:37.290169Z",
          "shell.execute_reply": "2022-11-13T21:46:37.299443Z"
        },
        "trusted": true,
        "id": "ayk3PZKYeaO4"
      },
      "execution_count": 260,
      "outputs": []
    },
    {
      "cell_type": "code",
      "source": [
        "numerical_features"
      ],
      "metadata": {
        "colab": {
          "base_uri": "https://localhost:8080/",
          "height": 455
        },
        "id": "luqditTnQnQj",
        "outputId": "5db0c8f7-5e8f-4600-8ffe-3f4d425f238d"
      },
      "execution_count": 261,
      "outputs": [
        {
          "output_type": "execute_result",
          "data": {
            "text/plain": [
              "      OverallQual  YearRemodAdd  MasVnrArea  TotalBsmtSF  GrLivArea  FullBath  \\\n",
              "Id                                                                              \n",
              "1               7          2003       196.0          856       1710         2   \n",
              "2               6          1976         0.0         1262       1262         2   \n",
              "3               7          2002       162.0          920       1786         2   \n",
              "4               7          1970         0.0          756       1717         1   \n",
              "5               8          2000       350.0         1145       2198         2   \n",
              "...           ...           ...         ...          ...        ...       ...   \n",
              "1456            6          2000         0.0          953       1647         2   \n",
              "1457            6          1988       119.0         1542       2073         2   \n",
              "1458            7          2006         0.0         1152       2340         2   \n",
              "1459            5          1996         0.0         1078       1078         1   \n",
              "1460            5          1965         0.0         1256       1256         1   \n",
              "\n",
              "      TotRmsAbvGrd  Fireplaces  GarageYrBlt  GarageCars  YearRetained  \n",
              "Id                                                                     \n",
              "1                8           0       2003.0           2            -5  \n",
              "2                6           1       1976.0           2           -31  \n",
              "3                6           1       2001.0           2            -7  \n",
              "4                7           1       1998.0           3           -91  \n",
              "5                9           1       2000.0           3            -8  \n",
              "...            ...         ...          ...         ...           ...  \n",
              "1456             7           1       1999.0           2            -8  \n",
              "1457             7           2       1978.0           2           -32  \n",
              "1458             9           2       1941.0           1           -69  \n",
              "1459             5           0       1950.0           1           -60  \n",
              "1460             6           0       1965.0           1           -43  \n",
              "\n",
              "[1460 rows x 11 columns]"
            ],
            "text/html": [
              "\n",
              "  <div id=\"df-7810a854-36a1-4450-8a0a-90b723be02db\">\n",
              "    <div class=\"colab-df-container\">\n",
              "      <div>\n",
              "<style scoped>\n",
              "    .dataframe tbody tr th:only-of-type {\n",
              "        vertical-align: middle;\n",
              "    }\n",
              "\n",
              "    .dataframe tbody tr th {\n",
              "        vertical-align: top;\n",
              "    }\n",
              "\n",
              "    .dataframe thead th {\n",
              "        text-align: right;\n",
              "    }\n",
              "</style>\n",
              "<table border=\"1\" class=\"dataframe\">\n",
              "  <thead>\n",
              "    <tr style=\"text-align: right;\">\n",
              "      <th></th>\n",
              "      <th>OverallQual</th>\n",
              "      <th>YearRemodAdd</th>\n",
              "      <th>MasVnrArea</th>\n",
              "      <th>TotalBsmtSF</th>\n",
              "      <th>GrLivArea</th>\n",
              "      <th>FullBath</th>\n",
              "      <th>TotRmsAbvGrd</th>\n",
              "      <th>Fireplaces</th>\n",
              "      <th>GarageYrBlt</th>\n",
              "      <th>GarageCars</th>\n",
              "      <th>YearRetained</th>\n",
              "    </tr>\n",
              "    <tr>\n",
              "      <th>Id</th>\n",
              "      <th></th>\n",
              "      <th></th>\n",
              "      <th></th>\n",
              "      <th></th>\n",
              "      <th></th>\n",
              "      <th></th>\n",
              "      <th></th>\n",
              "      <th></th>\n",
              "      <th></th>\n",
              "      <th></th>\n",
              "      <th></th>\n",
              "    </tr>\n",
              "  </thead>\n",
              "  <tbody>\n",
              "    <tr>\n",
              "      <th>1</th>\n",
              "      <td>7</td>\n",
              "      <td>2003</td>\n",
              "      <td>196.0</td>\n",
              "      <td>856</td>\n",
              "      <td>1710</td>\n",
              "      <td>2</td>\n",
              "      <td>8</td>\n",
              "      <td>0</td>\n",
              "      <td>2003.0</td>\n",
              "      <td>2</td>\n",
              "      <td>-5</td>\n",
              "    </tr>\n",
              "    <tr>\n",
              "      <th>2</th>\n",
              "      <td>6</td>\n",
              "      <td>1976</td>\n",
              "      <td>0.0</td>\n",
              "      <td>1262</td>\n",
              "      <td>1262</td>\n",
              "      <td>2</td>\n",
              "      <td>6</td>\n",
              "      <td>1</td>\n",
              "      <td>1976.0</td>\n",
              "      <td>2</td>\n",
              "      <td>-31</td>\n",
              "    </tr>\n",
              "    <tr>\n",
              "      <th>3</th>\n",
              "      <td>7</td>\n",
              "      <td>2002</td>\n",
              "      <td>162.0</td>\n",
              "      <td>920</td>\n",
              "      <td>1786</td>\n",
              "      <td>2</td>\n",
              "      <td>6</td>\n",
              "      <td>1</td>\n",
              "      <td>2001.0</td>\n",
              "      <td>2</td>\n",
              "      <td>-7</td>\n",
              "    </tr>\n",
              "    <tr>\n",
              "      <th>4</th>\n",
              "      <td>7</td>\n",
              "      <td>1970</td>\n",
              "      <td>0.0</td>\n",
              "      <td>756</td>\n",
              "      <td>1717</td>\n",
              "      <td>1</td>\n",
              "      <td>7</td>\n",
              "      <td>1</td>\n",
              "      <td>1998.0</td>\n",
              "      <td>3</td>\n",
              "      <td>-91</td>\n",
              "    </tr>\n",
              "    <tr>\n",
              "      <th>5</th>\n",
              "      <td>8</td>\n",
              "      <td>2000</td>\n",
              "      <td>350.0</td>\n",
              "      <td>1145</td>\n",
              "      <td>2198</td>\n",
              "      <td>2</td>\n",
              "      <td>9</td>\n",
              "      <td>1</td>\n",
              "      <td>2000.0</td>\n",
              "      <td>3</td>\n",
              "      <td>-8</td>\n",
              "    </tr>\n",
              "    <tr>\n",
              "      <th>...</th>\n",
              "      <td>...</td>\n",
              "      <td>...</td>\n",
              "      <td>...</td>\n",
              "      <td>...</td>\n",
              "      <td>...</td>\n",
              "      <td>...</td>\n",
              "      <td>...</td>\n",
              "      <td>...</td>\n",
              "      <td>...</td>\n",
              "      <td>...</td>\n",
              "      <td>...</td>\n",
              "    </tr>\n",
              "    <tr>\n",
              "      <th>1456</th>\n",
              "      <td>6</td>\n",
              "      <td>2000</td>\n",
              "      <td>0.0</td>\n",
              "      <td>953</td>\n",
              "      <td>1647</td>\n",
              "      <td>2</td>\n",
              "      <td>7</td>\n",
              "      <td>1</td>\n",
              "      <td>1999.0</td>\n",
              "      <td>2</td>\n",
              "      <td>-8</td>\n",
              "    </tr>\n",
              "    <tr>\n",
              "      <th>1457</th>\n",
              "      <td>6</td>\n",
              "      <td>1988</td>\n",
              "      <td>119.0</td>\n",
              "      <td>1542</td>\n",
              "      <td>2073</td>\n",
              "      <td>2</td>\n",
              "      <td>7</td>\n",
              "      <td>2</td>\n",
              "      <td>1978.0</td>\n",
              "      <td>2</td>\n",
              "      <td>-32</td>\n",
              "    </tr>\n",
              "    <tr>\n",
              "      <th>1458</th>\n",
              "      <td>7</td>\n",
              "      <td>2006</td>\n",
              "      <td>0.0</td>\n",
              "      <td>1152</td>\n",
              "      <td>2340</td>\n",
              "      <td>2</td>\n",
              "      <td>9</td>\n",
              "      <td>2</td>\n",
              "      <td>1941.0</td>\n",
              "      <td>1</td>\n",
              "      <td>-69</td>\n",
              "    </tr>\n",
              "    <tr>\n",
              "      <th>1459</th>\n",
              "      <td>5</td>\n",
              "      <td>1996</td>\n",
              "      <td>0.0</td>\n",
              "      <td>1078</td>\n",
              "      <td>1078</td>\n",
              "      <td>1</td>\n",
              "      <td>5</td>\n",
              "      <td>0</td>\n",
              "      <td>1950.0</td>\n",
              "      <td>1</td>\n",
              "      <td>-60</td>\n",
              "    </tr>\n",
              "    <tr>\n",
              "      <th>1460</th>\n",
              "      <td>5</td>\n",
              "      <td>1965</td>\n",
              "      <td>0.0</td>\n",
              "      <td>1256</td>\n",
              "      <td>1256</td>\n",
              "      <td>1</td>\n",
              "      <td>6</td>\n",
              "      <td>0</td>\n",
              "      <td>1965.0</td>\n",
              "      <td>1</td>\n",
              "      <td>-43</td>\n",
              "    </tr>\n",
              "  </tbody>\n",
              "</table>\n",
              "<p>1460 rows × 11 columns</p>\n",
              "</div>\n",
              "      <button class=\"colab-df-convert\" onclick=\"convertToInteractive('df-7810a854-36a1-4450-8a0a-90b723be02db')\"\n",
              "              title=\"Convert this dataframe to an interactive table.\"\n",
              "              style=\"display:none;\">\n",
              "        \n",
              "  <svg xmlns=\"http://www.w3.org/2000/svg\" height=\"24px\"viewBox=\"0 0 24 24\"\n",
              "       width=\"24px\">\n",
              "    <path d=\"M0 0h24v24H0V0z\" fill=\"none\"/>\n",
              "    <path d=\"M18.56 5.44l.94 2.06.94-2.06 2.06-.94-2.06-.94-.94-2.06-.94 2.06-2.06.94zm-11 1L8.5 8.5l.94-2.06 2.06-.94-2.06-.94L8.5 2.5l-.94 2.06-2.06.94zm10 10l.94 2.06.94-2.06 2.06-.94-2.06-.94-.94-2.06-.94 2.06-2.06.94z\"/><path d=\"M17.41 7.96l-1.37-1.37c-.4-.4-.92-.59-1.43-.59-.52 0-1.04.2-1.43.59L10.3 9.45l-7.72 7.72c-.78.78-.78 2.05 0 2.83L4 21.41c.39.39.9.59 1.41.59.51 0 1.02-.2 1.41-.59l7.78-7.78 2.81-2.81c.8-.78.8-2.07 0-2.86zM5.41 20L4 18.59l7.72-7.72 1.47 1.35L5.41 20z\"/>\n",
              "  </svg>\n",
              "      </button>\n",
              "      \n",
              "  <style>\n",
              "    .colab-df-container {\n",
              "      display:flex;\n",
              "      flex-wrap:wrap;\n",
              "      gap: 12px;\n",
              "    }\n",
              "\n",
              "    .colab-df-convert {\n",
              "      background-color: #E8F0FE;\n",
              "      border: none;\n",
              "      border-radius: 50%;\n",
              "      cursor: pointer;\n",
              "      display: none;\n",
              "      fill: #1967D2;\n",
              "      height: 32px;\n",
              "      padding: 0 0 0 0;\n",
              "      width: 32px;\n",
              "    }\n",
              "\n",
              "    .colab-df-convert:hover {\n",
              "      background-color: #E2EBFA;\n",
              "      box-shadow: 0px 1px 2px rgba(60, 64, 67, 0.3), 0px 1px 3px 1px rgba(60, 64, 67, 0.15);\n",
              "      fill: #174EA6;\n",
              "    }\n",
              "\n",
              "    [theme=dark] .colab-df-convert {\n",
              "      background-color: #3B4455;\n",
              "      fill: #D2E3FC;\n",
              "    }\n",
              "\n",
              "    [theme=dark] .colab-df-convert:hover {\n",
              "      background-color: #434B5C;\n",
              "      box-shadow: 0px 1px 3px 1px rgba(0, 0, 0, 0.15);\n",
              "      filter: drop-shadow(0px 1px 2px rgba(0, 0, 0, 0.3));\n",
              "      fill: #FFFFFF;\n",
              "    }\n",
              "  </style>\n",
              "\n",
              "      <script>\n",
              "        const buttonEl =\n",
              "          document.querySelector('#df-7810a854-36a1-4450-8a0a-90b723be02db button.colab-df-convert');\n",
              "        buttonEl.style.display =\n",
              "          google.colab.kernel.accessAllowed ? 'block' : 'none';\n",
              "\n",
              "        async function convertToInteractive(key) {\n",
              "          const element = document.querySelector('#df-7810a854-36a1-4450-8a0a-90b723be02db');\n",
              "          const dataTable =\n",
              "            await google.colab.kernel.invokeFunction('convertToInteractive',\n",
              "                                                     [key], {});\n",
              "          if (!dataTable) return;\n",
              "\n",
              "          const docLinkHtml = 'Like what you see? Visit the ' +\n",
              "            '<a target=\"_blank\" href=https://colab.research.google.com/notebooks/data_table.ipynb>data table notebook</a>'\n",
              "            + ' to learn more about interactive tables.';\n",
              "          element.innerHTML = '';\n",
              "          dataTable['output_type'] = 'display_data';\n",
              "          await google.colab.output.renderOutput(dataTable, element);\n",
              "          const docLink = document.createElement('div');\n",
              "          docLink.innerHTML = docLinkHtml;\n",
              "          element.appendChild(docLink);\n",
              "        }\n",
              "      </script>\n",
              "    </div>\n",
              "  </div>\n",
              "  "
            ]
          },
          "metadata": {},
          "execution_count": 261
        }
      ]
    },
    {
      "cell_type": "code",
      "source": [
        "categorical_features"
      ],
      "metadata": {
        "execution": {
          "iopub.status.busy": "2022-11-13T21:46:37.307479Z",
          "iopub.execute_input": "2022-11-13T21:46:37.307981Z",
          "iopub.status.idle": "2022-11-13T21:46:37.339801Z",
          "shell.execute_reply.started": "2022-11-13T21:46:37.307946Z",
          "shell.execute_reply": "2022-11-13T21:46:37.338752Z"
        },
        "trusted": true,
        "id": "JRrjpTYxeaO4",
        "outputId": "483c4b4d-f714-4e56-b850-b62bcee15f56",
        "colab": {
          "base_uri": "https://localhost:8080/",
          "height": 519
        }
      },
      "execution_count": 262,
      "outputs": [
        {
          "output_type": "execute_result",
          "data": {
            "text/plain": [
              "     MSZoning Street LotShape LandContour Utilities LotConfig LandSlope  \\\n",
              "Id                                                                        \n",
              "1          RL   Pave      Reg         Lvl    AllPub    Inside       Gtl   \n",
              "2          RL   Pave      Reg         Lvl    AllPub       FR2       Gtl   \n",
              "3          RL   Pave      IR1         Lvl    AllPub    Inside       Gtl   \n",
              "4          RL   Pave      IR1         Lvl    AllPub    Corner       Gtl   \n",
              "5          RL   Pave      IR1         Lvl    AllPub       FR2       Gtl   \n",
              "...       ...    ...      ...         ...       ...       ...       ...   \n",
              "1456       RL   Pave      Reg         Lvl    AllPub    Inside       Gtl   \n",
              "1457       RL   Pave      Reg         Lvl    AllPub    Inside       Gtl   \n",
              "1458       RL   Pave      Reg         Lvl    AllPub    Inside       Gtl   \n",
              "1459       RL   Pave      Reg         Lvl    AllPub    Inside       Gtl   \n",
              "1460       RL   Pave      Reg         Lvl    AllPub    Inside       Gtl   \n",
              "\n",
              "     Neighborhood Condition1 Condition2  ... Electrical KitchenQual  \\\n",
              "Id                                       ...                          \n",
              "1         CollgCr       Norm       Norm  ...      SBrkr          Gd   \n",
              "2         Veenker      Feedr       Norm  ...      SBrkr          TA   \n",
              "3         CollgCr       Norm       Norm  ...      SBrkr          Gd   \n",
              "4         Crawfor       Norm       Norm  ...      SBrkr          Gd   \n",
              "5         NoRidge       Norm       Norm  ...      SBrkr          Gd   \n",
              "...           ...        ...        ...  ...        ...         ...   \n",
              "1456      Gilbert       Norm       Norm  ...      SBrkr          TA   \n",
              "1457       NWAmes       Norm       Norm  ...      SBrkr          TA   \n",
              "1458      Crawfor       Norm       Norm  ...      SBrkr          Gd   \n",
              "1459        NAmes       Norm       Norm  ...      FuseA          Gd   \n",
              "1460      Edwards       Norm       Norm  ...      SBrkr          TA   \n",
              "\n",
              "     Functional GarageType GarageFinish GarageQual GarageCond PavedDrive  \\\n",
              "Id                                                                         \n",
              "1           Typ     Attchd          RFn         TA         TA          Y   \n",
              "2           Typ     Attchd          RFn         TA         TA          Y   \n",
              "3           Typ     Attchd          RFn         TA         TA          Y   \n",
              "4           Typ     Detchd          Unf         TA         TA          Y   \n",
              "5           Typ     Attchd          RFn         TA         TA          Y   \n",
              "...         ...        ...          ...        ...        ...        ...   \n",
              "1456        Typ     Attchd          RFn         TA         TA          Y   \n",
              "1457       Min1     Attchd          Unf         TA         TA          Y   \n",
              "1458        Typ     Attchd          RFn         TA         TA          Y   \n",
              "1459        Typ     Attchd          Unf         TA         TA          Y   \n",
              "1460        Typ     Attchd          Fin         TA         TA          Y   \n",
              "\n",
              "     SaleType SaleCondition  \n",
              "Id                           \n",
              "1          WD        Normal  \n",
              "2          WD        Normal  \n",
              "3          WD        Normal  \n",
              "4          WD       Abnorml  \n",
              "5          WD        Normal  \n",
              "...       ...           ...  \n",
              "1456       WD        Normal  \n",
              "1457       WD        Normal  \n",
              "1458       WD        Normal  \n",
              "1459       WD        Normal  \n",
              "1460       WD        Normal  \n",
              "\n",
              "[1460 rows x 38 columns]"
            ],
            "text/html": [
              "\n",
              "  <div id=\"df-39ae0ebe-31a2-401f-ab1c-154246038233\">\n",
              "    <div class=\"colab-df-container\">\n",
              "      <div>\n",
              "<style scoped>\n",
              "    .dataframe tbody tr th:only-of-type {\n",
              "        vertical-align: middle;\n",
              "    }\n",
              "\n",
              "    .dataframe tbody tr th {\n",
              "        vertical-align: top;\n",
              "    }\n",
              "\n",
              "    .dataframe thead th {\n",
              "        text-align: right;\n",
              "    }\n",
              "</style>\n",
              "<table border=\"1\" class=\"dataframe\">\n",
              "  <thead>\n",
              "    <tr style=\"text-align: right;\">\n",
              "      <th></th>\n",
              "      <th>MSZoning</th>\n",
              "      <th>Street</th>\n",
              "      <th>LotShape</th>\n",
              "      <th>LandContour</th>\n",
              "      <th>Utilities</th>\n",
              "      <th>LotConfig</th>\n",
              "      <th>LandSlope</th>\n",
              "      <th>Neighborhood</th>\n",
              "      <th>Condition1</th>\n",
              "      <th>Condition2</th>\n",
              "      <th>...</th>\n",
              "      <th>Electrical</th>\n",
              "      <th>KitchenQual</th>\n",
              "      <th>Functional</th>\n",
              "      <th>GarageType</th>\n",
              "      <th>GarageFinish</th>\n",
              "      <th>GarageQual</th>\n",
              "      <th>GarageCond</th>\n",
              "      <th>PavedDrive</th>\n",
              "      <th>SaleType</th>\n",
              "      <th>SaleCondition</th>\n",
              "    </tr>\n",
              "    <tr>\n",
              "      <th>Id</th>\n",
              "      <th></th>\n",
              "      <th></th>\n",
              "      <th></th>\n",
              "      <th></th>\n",
              "      <th></th>\n",
              "      <th></th>\n",
              "      <th></th>\n",
              "      <th></th>\n",
              "      <th></th>\n",
              "      <th></th>\n",
              "      <th></th>\n",
              "      <th></th>\n",
              "      <th></th>\n",
              "      <th></th>\n",
              "      <th></th>\n",
              "      <th></th>\n",
              "      <th></th>\n",
              "      <th></th>\n",
              "      <th></th>\n",
              "      <th></th>\n",
              "      <th></th>\n",
              "    </tr>\n",
              "  </thead>\n",
              "  <tbody>\n",
              "    <tr>\n",
              "      <th>1</th>\n",
              "      <td>RL</td>\n",
              "      <td>Pave</td>\n",
              "      <td>Reg</td>\n",
              "      <td>Lvl</td>\n",
              "      <td>AllPub</td>\n",
              "      <td>Inside</td>\n",
              "      <td>Gtl</td>\n",
              "      <td>CollgCr</td>\n",
              "      <td>Norm</td>\n",
              "      <td>Norm</td>\n",
              "      <td>...</td>\n",
              "      <td>SBrkr</td>\n",
              "      <td>Gd</td>\n",
              "      <td>Typ</td>\n",
              "      <td>Attchd</td>\n",
              "      <td>RFn</td>\n",
              "      <td>TA</td>\n",
              "      <td>TA</td>\n",
              "      <td>Y</td>\n",
              "      <td>WD</td>\n",
              "      <td>Normal</td>\n",
              "    </tr>\n",
              "    <tr>\n",
              "      <th>2</th>\n",
              "      <td>RL</td>\n",
              "      <td>Pave</td>\n",
              "      <td>Reg</td>\n",
              "      <td>Lvl</td>\n",
              "      <td>AllPub</td>\n",
              "      <td>FR2</td>\n",
              "      <td>Gtl</td>\n",
              "      <td>Veenker</td>\n",
              "      <td>Feedr</td>\n",
              "      <td>Norm</td>\n",
              "      <td>...</td>\n",
              "      <td>SBrkr</td>\n",
              "      <td>TA</td>\n",
              "      <td>Typ</td>\n",
              "      <td>Attchd</td>\n",
              "      <td>RFn</td>\n",
              "      <td>TA</td>\n",
              "      <td>TA</td>\n",
              "      <td>Y</td>\n",
              "      <td>WD</td>\n",
              "      <td>Normal</td>\n",
              "    </tr>\n",
              "    <tr>\n",
              "      <th>3</th>\n",
              "      <td>RL</td>\n",
              "      <td>Pave</td>\n",
              "      <td>IR1</td>\n",
              "      <td>Lvl</td>\n",
              "      <td>AllPub</td>\n",
              "      <td>Inside</td>\n",
              "      <td>Gtl</td>\n",
              "      <td>CollgCr</td>\n",
              "      <td>Norm</td>\n",
              "      <td>Norm</td>\n",
              "      <td>...</td>\n",
              "      <td>SBrkr</td>\n",
              "      <td>Gd</td>\n",
              "      <td>Typ</td>\n",
              "      <td>Attchd</td>\n",
              "      <td>RFn</td>\n",
              "      <td>TA</td>\n",
              "      <td>TA</td>\n",
              "      <td>Y</td>\n",
              "      <td>WD</td>\n",
              "      <td>Normal</td>\n",
              "    </tr>\n",
              "    <tr>\n",
              "      <th>4</th>\n",
              "      <td>RL</td>\n",
              "      <td>Pave</td>\n",
              "      <td>IR1</td>\n",
              "      <td>Lvl</td>\n",
              "      <td>AllPub</td>\n",
              "      <td>Corner</td>\n",
              "      <td>Gtl</td>\n",
              "      <td>Crawfor</td>\n",
              "      <td>Norm</td>\n",
              "      <td>Norm</td>\n",
              "      <td>...</td>\n",
              "      <td>SBrkr</td>\n",
              "      <td>Gd</td>\n",
              "      <td>Typ</td>\n",
              "      <td>Detchd</td>\n",
              "      <td>Unf</td>\n",
              "      <td>TA</td>\n",
              "      <td>TA</td>\n",
              "      <td>Y</td>\n",
              "      <td>WD</td>\n",
              "      <td>Abnorml</td>\n",
              "    </tr>\n",
              "    <tr>\n",
              "      <th>5</th>\n",
              "      <td>RL</td>\n",
              "      <td>Pave</td>\n",
              "      <td>IR1</td>\n",
              "      <td>Lvl</td>\n",
              "      <td>AllPub</td>\n",
              "      <td>FR2</td>\n",
              "      <td>Gtl</td>\n",
              "      <td>NoRidge</td>\n",
              "      <td>Norm</td>\n",
              "      <td>Norm</td>\n",
              "      <td>...</td>\n",
              "      <td>SBrkr</td>\n",
              "      <td>Gd</td>\n",
              "      <td>Typ</td>\n",
              "      <td>Attchd</td>\n",
              "      <td>RFn</td>\n",
              "      <td>TA</td>\n",
              "      <td>TA</td>\n",
              "      <td>Y</td>\n",
              "      <td>WD</td>\n",
              "      <td>Normal</td>\n",
              "    </tr>\n",
              "    <tr>\n",
              "      <th>...</th>\n",
              "      <td>...</td>\n",
              "      <td>...</td>\n",
              "      <td>...</td>\n",
              "      <td>...</td>\n",
              "      <td>...</td>\n",
              "      <td>...</td>\n",
              "      <td>...</td>\n",
              "      <td>...</td>\n",
              "      <td>...</td>\n",
              "      <td>...</td>\n",
              "      <td>...</td>\n",
              "      <td>...</td>\n",
              "      <td>...</td>\n",
              "      <td>...</td>\n",
              "      <td>...</td>\n",
              "      <td>...</td>\n",
              "      <td>...</td>\n",
              "      <td>...</td>\n",
              "      <td>...</td>\n",
              "      <td>...</td>\n",
              "      <td>...</td>\n",
              "    </tr>\n",
              "    <tr>\n",
              "      <th>1456</th>\n",
              "      <td>RL</td>\n",
              "      <td>Pave</td>\n",
              "      <td>Reg</td>\n",
              "      <td>Lvl</td>\n",
              "      <td>AllPub</td>\n",
              "      <td>Inside</td>\n",
              "      <td>Gtl</td>\n",
              "      <td>Gilbert</td>\n",
              "      <td>Norm</td>\n",
              "      <td>Norm</td>\n",
              "      <td>...</td>\n",
              "      <td>SBrkr</td>\n",
              "      <td>TA</td>\n",
              "      <td>Typ</td>\n",
              "      <td>Attchd</td>\n",
              "      <td>RFn</td>\n",
              "      <td>TA</td>\n",
              "      <td>TA</td>\n",
              "      <td>Y</td>\n",
              "      <td>WD</td>\n",
              "      <td>Normal</td>\n",
              "    </tr>\n",
              "    <tr>\n",
              "      <th>1457</th>\n",
              "      <td>RL</td>\n",
              "      <td>Pave</td>\n",
              "      <td>Reg</td>\n",
              "      <td>Lvl</td>\n",
              "      <td>AllPub</td>\n",
              "      <td>Inside</td>\n",
              "      <td>Gtl</td>\n",
              "      <td>NWAmes</td>\n",
              "      <td>Norm</td>\n",
              "      <td>Norm</td>\n",
              "      <td>...</td>\n",
              "      <td>SBrkr</td>\n",
              "      <td>TA</td>\n",
              "      <td>Min1</td>\n",
              "      <td>Attchd</td>\n",
              "      <td>Unf</td>\n",
              "      <td>TA</td>\n",
              "      <td>TA</td>\n",
              "      <td>Y</td>\n",
              "      <td>WD</td>\n",
              "      <td>Normal</td>\n",
              "    </tr>\n",
              "    <tr>\n",
              "      <th>1458</th>\n",
              "      <td>RL</td>\n",
              "      <td>Pave</td>\n",
              "      <td>Reg</td>\n",
              "      <td>Lvl</td>\n",
              "      <td>AllPub</td>\n",
              "      <td>Inside</td>\n",
              "      <td>Gtl</td>\n",
              "      <td>Crawfor</td>\n",
              "      <td>Norm</td>\n",
              "      <td>Norm</td>\n",
              "      <td>...</td>\n",
              "      <td>SBrkr</td>\n",
              "      <td>Gd</td>\n",
              "      <td>Typ</td>\n",
              "      <td>Attchd</td>\n",
              "      <td>RFn</td>\n",
              "      <td>TA</td>\n",
              "      <td>TA</td>\n",
              "      <td>Y</td>\n",
              "      <td>WD</td>\n",
              "      <td>Normal</td>\n",
              "    </tr>\n",
              "    <tr>\n",
              "      <th>1459</th>\n",
              "      <td>RL</td>\n",
              "      <td>Pave</td>\n",
              "      <td>Reg</td>\n",
              "      <td>Lvl</td>\n",
              "      <td>AllPub</td>\n",
              "      <td>Inside</td>\n",
              "      <td>Gtl</td>\n",
              "      <td>NAmes</td>\n",
              "      <td>Norm</td>\n",
              "      <td>Norm</td>\n",
              "      <td>...</td>\n",
              "      <td>FuseA</td>\n",
              "      <td>Gd</td>\n",
              "      <td>Typ</td>\n",
              "      <td>Attchd</td>\n",
              "      <td>Unf</td>\n",
              "      <td>TA</td>\n",
              "      <td>TA</td>\n",
              "      <td>Y</td>\n",
              "      <td>WD</td>\n",
              "      <td>Normal</td>\n",
              "    </tr>\n",
              "    <tr>\n",
              "      <th>1460</th>\n",
              "      <td>RL</td>\n",
              "      <td>Pave</td>\n",
              "      <td>Reg</td>\n",
              "      <td>Lvl</td>\n",
              "      <td>AllPub</td>\n",
              "      <td>Inside</td>\n",
              "      <td>Gtl</td>\n",
              "      <td>Edwards</td>\n",
              "      <td>Norm</td>\n",
              "      <td>Norm</td>\n",
              "      <td>...</td>\n",
              "      <td>SBrkr</td>\n",
              "      <td>TA</td>\n",
              "      <td>Typ</td>\n",
              "      <td>Attchd</td>\n",
              "      <td>Fin</td>\n",
              "      <td>TA</td>\n",
              "      <td>TA</td>\n",
              "      <td>Y</td>\n",
              "      <td>WD</td>\n",
              "      <td>Normal</td>\n",
              "    </tr>\n",
              "  </tbody>\n",
              "</table>\n",
              "<p>1460 rows × 38 columns</p>\n",
              "</div>\n",
              "      <button class=\"colab-df-convert\" onclick=\"convertToInteractive('df-39ae0ebe-31a2-401f-ab1c-154246038233')\"\n",
              "              title=\"Convert this dataframe to an interactive table.\"\n",
              "              style=\"display:none;\">\n",
              "        \n",
              "  <svg xmlns=\"http://www.w3.org/2000/svg\" height=\"24px\"viewBox=\"0 0 24 24\"\n",
              "       width=\"24px\">\n",
              "    <path d=\"M0 0h24v24H0V0z\" fill=\"none\"/>\n",
              "    <path d=\"M18.56 5.44l.94 2.06.94-2.06 2.06-.94-2.06-.94-.94-2.06-.94 2.06-2.06.94zm-11 1L8.5 8.5l.94-2.06 2.06-.94-2.06-.94L8.5 2.5l-.94 2.06-2.06.94zm10 10l.94 2.06.94-2.06 2.06-.94-2.06-.94-.94-2.06-.94 2.06-2.06.94z\"/><path d=\"M17.41 7.96l-1.37-1.37c-.4-.4-.92-.59-1.43-.59-.52 0-1.04.2-1.43.59L10.3 9.45l-7.72 7.72c-.78.78-.78 2.05 0 2.83L4 21.41c.39.39.9.59 1.41.59.51 0 1.02-.2 1.41-.59l7.78-7.78 2.81-2.81c.8-.78.8-2.07 0-2.86zM5.41 20L4 18.59l7.72-7.72 1.47 1.35L5.41 20z\"/>\n",
              "  </svg>\n",
              "      </button>\n",
              "      \n",
              "  <style>\n",
              "    .colab-df-container {\n",
              "      display:flex;\n",
              "      flex-wrap:wrap;\n",
              "      gap: 12px;\n",
              "    }\n",
              "\n",
              "    .colab-df-convert {\n",
              "      background-color: #E8F0FE;\n",
              "      border: none;\n",
              "      border-radius: 50%;\n",
              "      cursor: pointer;\n",
              "      display: none;\n",
              "      fill: #1967D2;\n",
              "      height: 32px;\n",
              "      padding: 0 0 0 0;\n",
              "      width: 32px;\n",
              "    }\n",
              "\n",
              "    .colab-df-convert:hover {\n",
              "      background-color: #E2EBFA;\n",
              "      box-shadow: 0px 1px 2px rgba(60, 64, 67, 0.3), 0px 1px 3px 1px rgba(60, 64, 67, 0.15);\n",
              "      fill: #174EA6;\n",
              "    }\n",
              "\n",
              "    [theme=dark] .colab-df-convert {\n",
              "      background-color: #3B4455;\n",
              "      fill: #D2E3FC;\n",
              "    }\n",
              "\n",
              "    [theme=dark] .colab-df-convert:hover {\n",
              "      background-color: #434B5C;\n",
              "      box-shadow: 0px 1px 3px 1px rgba(0, 0, 0, 0.15);\n",
              "      filter: drop-shadow(0px 1px 2px rgba(0, 0, 0, 0.3));\n",
              "      fill: #FFFFFF;\n",
              "    }\n",
              "  </style>\n",
              "\n",
              "      <script>\n",
              "        const buttonEl =\n",
              "          document.querySelector('#df-39ae0ebe-31a2-401f-ab1c-154246038233 button.colab-df-convert');\n",
              "        buttonEl.style.display =\n",
              "          google.colab.kernel.accessAllowed ? 'block' : 'none';\n",
              "\n",
              "        async function convertToInteractive(key) {\n",
              "          const element = document.querySelector('#df-39ae0ebe-31a2-401f-ab1c-154246038233');\n",
              "          const dataTable =\n",
              "            await google.colab.kernel.invokeFunction('convertToInteractive',\n",
              "                                                     [key], {});\n",
              "          if (!dataTable) return;\n",
              "\n",
              "          const docLinkHtml = 'Like what you see? Visit the ' +\n",
              "            '<a target=\"_blank\" href=https://colab.research.google.com/notebooks/data_table.ipynb>data table notebook</a>'\n",
              "            + ' to learn more about interactive tables.';\n",
              "          element.innerHTML = '';\n",
              "          dataTable['output_type'] = 'display_data';\n",
              "          await google.colab.output.renderOutput(dataTable, element);\n",
              "          const docLink = document.createElement('div');\n",
              "          docLink.innerHTML = docLinkHtml;\n",
              "          element.appendChild(docLink);\n",
              "        }\n",
              "      </script>\n",
              "    </div>\n",
              "  </div>\n",
              "  "
            ]
          },
          "metadata": {},
          "execution_count": 262
        }
      ]
    },
    {
      "cell_type": "code",
      "source": [
        "discrete_features = [feature for feature in numerical_features if len(x[feature].unique())<15]\n",
        "continuous_features = [feature for feature in numerical_features if feature not in discrete_features]"
      ],
      "metadata": {
        "id": "eb3dxbAEZxPn"
      },
      "execution_count": 263,
      "outputs": []
    },
    {
      "cell_type": "code",
      "source": [
        "discrete_features"
      ],
      "metadata": {
        "colab": {
          "base_uri": "https://localhost:8080/"
        },
        "id": "JYD3ThkRcnFK",
        "outputId": "a84c2cab-78e4-4e45-c42a-f7bd8d510d9b"
      },
      "execution_count": 264,
      "outputs": [
        {
          "output_type": "execute_result",
          "data": {
            "text/plain": [
              "['OverallQual', 'FullBath', 'TotRmsAbvGrd', 'Fireplaces', 'GarageCars']"
            ]
          },
          "metadata": {},
          "execution_count": 264
        }
      ]
    },
    {
      "cell_type": "code",
      "source": [
        "continuous_features"
      ],
      "metadata": {
        "colab": {
          "base_uri": "https://localhost:8080/"
        },
        "id": "lvSTmaqfgII1",
        "outputId": "f9d11ae4-987e-4dfb-85a3-f3032ac7ddfd"
      },
      "execution_count": 265,
      "outputs": [
        {
          "output_type": "execute_result",
          "data": {
            "text/plain": [
              "['YearRemodAdd',\n",
              " 'MasVnrArea',\n",
              " 'TotalBsmtSF',\n",
              " 'GrLivArea',\n",
              " 'GarageYrBlt',\n",
              " 'YearRetained']"
            ]
          },
          "metadata": {},
          "execution_count": 265
        }
      ]
    },
    {
      "cell_type": "code",
      "source": [
        "from sklearn.model_selection import train_test_split"
      ],
      "metadata": {
        "execution": {
          "iopub.status.busy": "2022-11-13T21:46:37.341138Z",
          "iopub.execute_input": "2022-11-13T21:46:37.341456Z",
          "iopub.status.idle": "2022-11-13T21:46:37.346133Z",
          "shell.execute_reply.started": "2022-11-13T21:46:37.341425Z",
          "shell.execute_reply": "2022-11-13T21:46:37.345050Z"
        },
        "trusted": true,
        "id": "pq7a4zPdeaO4"
      },
      "execution_count": 266,
      "outputs": []
    },
    {
      "cell_type": "code",
      "source": [
        "x_train, x_test, y_train, y_test = train_test_split(x,y)"
      ],
      "metadata": {
        "execution": {
          "iopub.status.busy": "2022-11-13T21:46:37.347648Z",
          "iopub.execute_input": "2022-11-13T21:46:37.348341Z",
          "iopub.status.idle": "2022-11-13T21:46:37.358898Z",
          "shell.execute_reply.started": "2022-11-13T21:46:37.348297Z",
          "shell.execute_reply": "2022-11-13T21:46:37.357974Z"
        },
        "trusted": true,
        "id": "DV_lXSJ3eaO4"
      },
      "execution_count": 267,
      "outputs": []
    },
    {
      "cell_type": "code",
      "source": [
        "from sklearn.pipeline import Pipeline\n",
        "from sklearn.impute import SimpleImputer\n",
        "from sklearn.compose import ColumnTransformer\n",
        "from sklearn.preprocessing import OneHotEncoder, StandardScaler, MinMaxScaler, PowerTransformer\n",
        "from sklearn.ensemble import RandomForestRegressor\n",
        "from sklearn.model_selection import GridSearchCV\n",
        "from sklearn.decomposition import TruncatedSVD\n",
        "from sklearn.metrics import r2_score"
      ],
      "metadata": {
        "execution": {
          "iopub.status.busy": "2022-11-13T21:46:37.407551Z",
          "iopub.execute_input": "2022-11-13T21:46:37.408783Z",
          "iopub.status.idle": "2022-11-13T21:46:37.415209Z",
          "shell.execute_reply.started": "2022-11-13T21:46:37.408739Z",
          "shell.execute_reply": "2022-11-13T21:46:37.414516Z"
        },
        "trusted": true,
        "id": "Une7qyvPeaO5"
      },
      "execution_count": 268,
      "outputs": []
    },
    {
      "cell_type": "code",
      "source": [
        "continuous_numeric_preprocessor = Pipeline(\n",
        "    steps=[\n",
        "        (\"imputation_mean\", SimpleImputer(missing_values=np.nan, strategy=\"mean\")),\n",
        "        (\"scaler\", StandardScaler()),\n",
        "        (\"function_transform\", PowerTransformer(method='yeo-johnson'))\n",
        "    ]\n",
        ")"
      ],
      "metadata": {
        "execution": {
          "iopub.status.busy": "2022-11-13T21:48:47.410325Z",
          "iopub.execute_input": "2022-11-13T21:48:47.410776Z",
          "iopub.status.idle": "2022-11-13T21:48:47.416460Z",
          "shell.execute_reply.started": "2022-11-13T21:48:47.410738Z",
          "shell.execute_reply": "2022-11-13T21:48:47.415513Z"
        },
        "trusted": true,
        "id": "_J-9KtATeaO5"
      },
      "execution_count": 269,
      "outputs": []
    },
    {
      "cell_type": "code",
      "source": [
        "discrete_numeric_preprocessor = Pipeline(\n",
        "    steps=[\n",
        "        (\"imputation_mean\", SimpleImputer(missing_values=np.nan, strategy=\"mean\")),\n",
        "        (\"scaler\", MinMaxScaler()),\n",
        "    ]\n",
        ")"
      ],
      "metadata": {
        "id": "FGg_OsliabEq"
      },
      "execution_count": 270,
      "outputs": []
    },
    {
      "cell_type": "code",
      "source": [
        "categorical_preprocessor = Pipeline(\n",
        "    steps=[\n",
        "        (\"onehot\", OneHotEncoder(handle_unknown=\"ignore\", drop='first')), ##dropping first to avoid multicollinearity in categorical features\n",
        "        (\"imputation_most_frequent\", SimpleImputer(missing_values=np.nan, strategy=\"most_frequent\")),\n",
        "    ]\n",
        ")"
      ],
      "metadata": {
        "execution": {
          "iopub.status.busy": "2022-11-13T22:00:40.697163Z",
          "iopub.execute_input": "2022-11-13T22:00:40.698108Z",
          "iopub.status.idle": "2022-11-13T22:00:40.703503Z",
          "shell.execute_reply.started": "2022-11-13T22:00:40.698063Z",
          "shell.execute_reply": "2022-11-13T22:00:40.702434Z"
        },
        "trusted": true,
        "id": "Qi7_Zpd2eaO5"
      },
      "execution_count": 271,
      "outputs": []
    },
    {
      "cell_type": "code",
      "source": [
        "preprocessor = ColumnTransformer(\n",
        "    [\n",
        "        (\"categorical\", categorical_preprocessor, categorical_features.columns),\n",
        "        (\"numerical_discrete\", discrete_numeric_preprocessor, discrete_features),\n",
        "        (\"numerical_continuous\", continuous_numeric_preprocessor, continuous_features),\n",
        "    ]\n",
        ")"
      ],
      "metadata": {
        "execution": {
          "iopub.status.busy": "2022-11-13T22:00:41.430871Z",
          "iopub.execute_input": "2022-11-13T22:00:41.431796Z",
          "iopub.status.idle": "2022-11-13T22:00:41.436811Z",
          "shell.execute_reply.started": "2022-11-13T22:00:41.431743Z",
          "shell.execute_reply": "2022-11-13T22:00:41.436025Z"
        },
        "trusted": true,
        "id": "Fy179YjYeaO6"
      },
      "execution_count": 272,
      "outputs": []
    },
    {
      "cell_type": "code",
      "source": [
        "x_train_trf = preprocessor.fit_transform(x_train,y_train)\n",
        "x_test_trf= preprocessor.transform(x_test)"
      ],
      "metadata": {
        "execution": {
          "iopub.status.busy": "2022-11-13T22:00:43.625687Z",
          "iopub.execute_input": "2022-11-13T22:00:43.626249Z",
          "iopub.status.idle": "2022-11-13T22:00:43.765641Z",
          "shell.execute_reply.started": "2022-11-13T22:00:43.626216Z",
          "shell.execute_reply": "2022-11-13T22:00:43.764616Z"
        },
        "trusted": true,
        "id": "q2bGZsXUeaO6"
      },
      "execution_count": 273,
      "outputs": []
    },
    {
      "cell_type": "code",
      "source": [
        "x_train_trf"
      ],
      "metadata": {
        "execution": {
          "iopub.status.busy": "2022-11-13T22:00:44.676510Z",
          "iopub.execute_input": "2022-11-13T22:00:44.676879Z",
          "iopub.status.idle": "2022-11-13T22:00:44.685862Z",
          "shell.execute_reply.started": "2022-11-13T22:00:44.676847Z",
          "shell.execute_reply": "2022-11-13T22:00:44.685117Z"
        },
        "trusted": true,
        "id": "_YSN6j8ceaO6",
        "outputId": "6100d5d4-aef2-426f-f794-f98d923c820e",
        "colab": {
          "base_uri": "https://localhost:8080/"
        }
      },
      "execution_count": 274,
      "outputs": [
        {
          "output_type": "execute_result",
          "data": {
            "text/plain": [
              "<1095x251 sparse matrix of type '<class 'numpy.float64'>'\n",
              "\twith 53072 stored elements in Compressed Sparse Row format>"
            ]
          },
          "metadata": {},
          "execution_count": 274
        }
      ]
    },
    {
      "cell_type": "code",
      "source": [
        "plt.figure(figsize=(15,15))\n",
        "plt.spy(x_test_trf, markersize=1)"
      ],
      "metadata": {
        "execution": {
          "iopub.status.busy": "2022-11-13T22:00:45.896823Z",
          "iopub.execute_input": "2022-11-13T22:00:45.897509Z",
          "iopub.status.idle": "2022-11-13T22:00:46.296950Z",
          "shell.execute_reply.started": "2022-11-13T22:00:45.897457Z",
          "shell.execute_reply": "2022-11-13T22:00:46.296111Z"
        },
        "trusted": true,
        "id": "8FeSVOySeaO6",
        "outputId": "50a5de8f-ab82-4bef-b7b9-3e9b8a00d7c6",
        "colab": {
          "base_uri": "https://localhost:8080/",
          "height": 884
        }
      },
      "execution_count": 275,
      "outputs": [
        {
          "output_type": "execute_result",
          "data": {
            "text/plain": [
              "<matplotlib.lines.Line2D at 0x7f0c4d0bfd00>"
            ]
          },
          "metadata": {},
          "execution_count": 275
        },
        {
          "output_type": "display_data",
          "data": {
            "text/plain": [
              "<Figure size 1080x1080 with 1 Axes>"
            ],
            "image/png": "[encoded data removed]"
          },
          "metadata": {
            "needs_background": "light"
          }
        }
      ]
    },
    {
      "cell_type": "markdown",
      "source": [
        "We can clearly see that our Pipeline has done its work, since the numerical features are represented by dense matrix and the categorical feature space is sparse as expected."
      ],
      "metadata": {
        "id": "4cNvlMddbTni"
      }
    },
    {
      "cell_type": "markdown",
      "source": [
        "#Final prediction using ensemble learning methods"
      ],
      "metadata": {
        "id": "acfDUd6Ukl99"
      }
    },
    {
      "cell_type": "code",
      "source": [
        "pipe = Pipeline(\n",
        "    steps=[\n",
        "        (\"preprocessor\", preprocessor),\n",
        "        #(\"reduce_dim\", TruncatedSVD()), #I thought reducing dimensions would help, but it did not in this case\n",
        "        (\"classifier\", RandomForestRegressor()),\n",
        "    ]\n",
        ")"
      ],
      "metadata": {
        "execution": {
          "iopub.status.busy": "2022-11-13T22:00:54.564090Z",
          "iopub.execute_input": "2022-11-13T22:00:54.564520Z",
          "iopub.status.idle": "2022-11-13T22:00:54.569876Z",
          "shell.execute_reply.started": "2022-11-13T22:00:54.564472Z",
          "shell.execute_reply": "2022-11-13T22:00:54.568868Z"
        },
        "trusted": true,
        "id": "QeNc2FWXeaO6"
      },
      "execution_count": 282,
      "outputs": []
    },
    {
      "cell_type": "code",
      "source": [
        "pipe.fit(x_train,y_train)"
      ],
      "metadata": {
        "execution": {
          "iopub.status.busy": "2022-11-13T22:00:55.419598Z",
          "iopub.execute_input": "2022-11-13T22:00:55.419999Z",
          "iopub.status.idle": "2022-11-13T22:00:55.701029Z",
          "shell.execute_reply.started": "2022-11-13T22:00:55.419967Z",
          "shell.execute_reply": "2022-11-13T22:00:55.699945Z"
        },
        "trusted": true,
        "id": "VZLvQfdKeaO7",
        "outputId": "6efacaa2-c275-4dab-e161-3196de3c9f5e",
        "colab": {
          "base_uri": "https://localhost:8080/"
        }
      },
      "execution_count": 283,
      "outputs": [
        {
          "output_type": "execute_result",
          "data": {
            "text/plain": [
              "Pipeline(steps=[('preprocessor',\n",
              "                 ColumnTransformer(transformers=[('categorical',\n",
              "                                                  Pipeline(steps=[('onehot',\n",
              "                                                                   OneHotEncoder(handle_unknown='ignore')),\n",
              "                                                                  ('imputation_most_frequent',\n",
              "                                                                   SimpleImputer(strategy='most_frequent'))]),\n",
              "                                                  Index(['MSZoning', 'Street', 'LotShape', 'LandContour', 'Utilities',\n",
              "       'LotConfig', 'LandSlope', 'Neighborhood', 'Condition1', 'Condition2',\n",
              "       'Bldg...\n",
              "                                                                   MinMaxScaler())]),\n",
              "                                                  ['OverallQual', 'FullBath',\n",
              "                                                   'TotRmsAbvGrd', 'Fireplaces',\n",
              "                                                   'GarageCars']),\n",
              "                                                 ('numerical_continuous',\n",
              "                                                  Pipeline(steps=[('imputation_mean',\n",
              "                                                                   SimpleImputer()),\n",
              "                                                                  ('scaler',\n",
              "                                                                   StandardScaler()),\n",
              "                                                                  ('function_transform',\n",
              "                                                                   PowerTransformer())]),\n",
              "                                                  ['YearRemodAdd', 'MasVnrArea',\n",
              "                                                   'TotalBsmtSF', 'GrLivArea',\n",
              "                                                   'GarageYrBlt',\n",
              "                                                   'YearRetained'])])),\n",
              "                ('classifier', RandomForestRegressor())])"
            ]
          },
          "metadata": {},
          "execution_count": 283
        }
      ]
    },
    {
      "cell_type": "code",
      "source": [
        "pipe.named_steps"
      ],
      "metadata": {
        "execution": {
          "iopub.status.busy": "2022-11-13T22:00:58.553538Z",
          "iopub.execute_input": "2022-11-13T22:00:58.553928Z",
          "iopub.status.idle": "2022-11-13T22:00:58.575687Z",
          "shell.execute_reply.started": "2022-11-13T22:00:58.553888Z",
          "shell.execute_reply": "2022-11-13T22:00:58.574457Z"
        },
        "trusted": true,
        "id": "K2iHWh1GeaO7",
        "outputId": "98b30bef-cf42-483c-9786-b04f4f9cdd2e",
        "colab": {
          "base_uri": "https://localhost:8080/"
        }
      },
      "execution_count": 284,
      "outputs": [
        {
          "output_type": "execute_result",
          "data": {
            "text/plain": [
              "{'preprocessor': ColumnTransformer(transformers=[('categorical',\n",
              "                                  Pipeline(steps=[('onehot',\n",
              "                                                   OneHotEncoder(handle_unknown='ignore')),\n",
              "                                                  ('imputation_most_frequent',\n",
              "                                                   SimpleImputer(strategy='most_frequent'))]),\n",
              "                                  Index(['MSZoning', 'Street', 'LotShape', 'LandContour', 'Utilities',\n",
              "        'LotConfig', 'LandSlope', 'Neighborhood', 'Condition1', 'Condition2',\n",
              "        'BldgType', 'HouseStyle', 'RoofStyle', '...\n",
              "                                  Pipeline(steps=[('imputation_mean',\n",
              "                                                   SimpleImputer()),\n",
              "                                                  ('scaler', MinMaxScaler())]),\n",
              "                                  ['OverallQual', 'FullBath', 'TotRmsAbvGrd',\n",
              "                                   'Fireplaces', 'GarageCars']),\n",
              "                                 ('numerical_continuous',\n",
              "                                  Pipeline(steps=[('imputation_mean',\n",
              "                                                   SimpleImputer()),\n",
              "                                                  ('scaler', StandardScaler()),\n",
              "                                                  ('function_transform',\n",
              "                                                   PowerTransformer())]),\n",
              "                                  ['YearRemodAdd', 'MasVnrArea', 'TotalBsmtSF',\n",
              "                                   'GrLivArea', 'GarageYrBlt',\n",
              "                                   'YearRetained'])]),\n",
              " 'classifier': RandomForestRegressor()}"
            ]
          },
          "metadata": {},
          "execution_count": 284
        }
      ]
    },
    {
      "cell_type": "code",
      "source": [
        "y_pred = pipe.predict(x_test)"
      ],
      "metadata": {
        "execution": {
          "iopub.status.busy": "2022-11-13T22:01:00.112618Z",
          "iopub.execute_input": "2022-11-13T22:01:00.113584Z",
          "iopub.status.idle": "2022-11-13T22:01:00.148616Z",
          "shell.execute_reply.started": "2022-11-13T22:01:00.113539Z",
          "shell.execute_reply": "2022-11-13T22:01:00.147728Z"
        },
        "trusted": true,
        "id": "drVkhthieaO7"
      },
      "execution_count": 285,
      "outputs": []
    },
    {
      "cell_type": "code",
      "source": [
        "r2 = r2_score(y_test,y_pred)"
      ],
      "metadata": {
        "execution": {
          "iopub.status.busy": "2022-11-13T22:01:01.769168Z",
          "iopub.execute_input": "2022-11-13T22:01:01.769609Z",
          "iopub.status.idle": "2022-11-13T22:01:01.775904Z",
          "shell.execute_reply.started": "2022-11-13T22:01:01.769572Z",
          "shell.execute_reply": "2022-11-13T22:01:01.774647Z"
        },
        "trusted": true,
        "id": "fGLcFj0TeaO7"
      },
      "execution_count": 286,
      "outputs": []
    },
    {
      "cell_type": "code",
      "source": [
        "r2"
      ],
      "metadata": {
        "colab": {
          "base_uri": "https://localhost:8080/"
        },
        "id": "dZits5incE-e",
        "outputId": "2cb4595b-5275-486c-d542-02c27a974910"
      },
      "execution_count": 287,
      "outputs": [
        {
          "output_type": "execute_result",
          "data": {
            "text/plain": [
              "0.8619594474380265"
            ]
          },
          "metadata": {},
          "execution_count": 287
        }
      ]
    },
    {
      "cell_type": "code",
      "source": [
        "import warnings\n",
        "warnings.filterwarnings('ignore')"
      ],
      "metadata": {
        "execution": {
          "iopub.status.busy": "2022-11-13T22:01:03.719275Z",
          "iopub.execute_input": "2022-11-13T22:01:03.719664Z",
          "iopub.status.idle": "2022-11-13T22:01:03.724721Z",
          "shell.execute_reply.started": "2022-11-13T22:01:03.719630Z",
          "shell.execute_reply": "2022-11-13T22:01:03.723327Z"
        },
        "trusted": true,
        "id": "KeW4n9X7eaO8"
      },
      "execution_count": 290,
      "outputs": []
    },
    {
      "cell_type": "code",
      "source": [
        "param_grid = {\n",
        "    \"classifier__max_depth\": [10, 20, 40, None],\n",
        "    \"classifier__min_samples_leaf\": [1, 2],\n",
        "    \"classifier__min_samples_split\": [2, 5, 10],\n",
        "    \"classifier__n_estimators\": [50,100, 200],\n",
        "}"
      ],
      "metadata": {
        "execution": {
          "iopub.status.busy": "2022-11-13T22:01:05.174867Z",
          "iopub.execute_input": "2022-11-13T22:01:05.175250Z",
          "iopub.status.idle": "2022-11-13T22:01:05.180946Z",
          "shell.execute_reply.started": "2022-11-13T22:01:05.175218Z",
          "shell.execute_reply": "2022-11-13T22:01:05.179646Z"
        },
        "trusted": true,
        "id": "dZ82NOb1eaO8"
      },
      "execution_count": 296,
      "outputs": []
    },
    {
      "cell_type": "code",
      "source": [
        "grid_search = GridSearchCV(pipe, param_grid=param_grid, cv=10,scoring='r2', n_jobs=-1)"
      ],
      "metadata": {
        "execution": {
          "iopub.status.busy": "2022-11-13T21:46:38.031299Z",
          "iopub.execute_input": "2022-11-13T21:46:38.032194Z",
          "iopub.status.idle": "2022-11-13T21:46:38.041140Z",
          "shell.execute_reply.started": "2022-11-13T21:46:38.032138Z",
          "shell.execute_reply": "2022-11-13T21:46:38.040239Z"
        },
        "trusted": true,
        "id": "zbBDz_rteaO8"
      },
      "execution_count": 297,
      "outputs": []
    },
    {
      "cell_type": "code",
      "source": [
        "grid_search"
      ],
      "metadata": {
        "execution": {
          "iopub.status.busy": "2022-11-13T21:46:38.042575Z",
          "iopub.execute_input": "2022-11-13T21:46:38.043364Z",
          "iopub.status.idle": "2022-11-13T21:46:38.124950Z",
          "shell.execute_reply.started": "2022-11-13T21:46:38.043303Z",
          "shell.execute_reply": "2022-11-13T21:46:38.123564Z"
        },
        "trusted": true,
        "id": "XZFQUPIJeaO8",
        "outputId": "a62db4bb-bbdd-4898-a973-d8a0103e090f",
        "colab": {
          "base_uri": "https://localhost:8080/"
        }
      },
      "execution_count": 298,
      "outputs": [
        {
          "output_type": "execute_result",
          "data": {
            "text/plain": [
              "GridSearchCV(cv=10,\n",
              "             estimator=Pipeline(steps=[('preprocessor',\n",
              "                                        ColumnTransformer(transformers=[('categorical',\n",
              "                                                                         Pipeline(steps=[('onehot',\n",
              "                                                                                          OneHotEncoder(handle_unknown='ignore')),\n",
              "                                                                                         ('imputation_most_frequent',\n",
              "                                                                                          SimpleImputer(strategy='most_frequent'))]),\n",
              "                                                                         Index(['MSZoning', 'Street', 'LotShape', 'LandContour', 'Utilities',\n",
              "       'LotConfig', 'LandSlope', 'Neighborhood', 'C...\n",
              "                                                                                         ('function_transform',\n",
              "                                                                                          PowerTransformer())]),\n",
              "                                                                         ['YearRemodAdd',\n",
              "                                                                          'MasVnrArea',\n",
              "                                                                          'TotalBsmtSF',\n",
              "                                                                          'GrLivArea',\n",
              "                                                                          'GarageYrBlt',\n",
              "                                                                          'YearRetained'])])),\n",
              "                                       ('classifier',\n",
              "                                        RandomForestRegressor())]),\n",
              "             n_jobs=-1,\n",
              "             param_grid={'classifier__max_depth': [10, 20, 40, None],\n",
              "                         'classifier__min_samples_leaf': [1, 2],\n",
              "                         'classifier__min_samples_split': [2, 5, 10],\n",
              "                         'classifier__n_estimators': [50, 100, 200]},\n",
              "             scoring='r2')"
            ]
          },
          "metadata": {},
          "execution_count": 298
        }
      ]
    },
    {
      "cell_type": "code",
      "source": [
        "import warnings\n",
        "warnings.simplefilter(\"ignore\", UserWarning)"
      ],
      "metadata": {
        "execution": {
          "iopub.status.busy": "2022-11-13T21:46:38.126346Z",
          "iopub.execute_input": "2022-11-13T21:46:38.126795Z",
          "iopub.status.idle": "2022-11-13T21:46:38.131972Z",
          "shell.execute_reply.started": "2022-11-13T21:46:38.126747Z",
          "shell.execute_reply": "2022-11-13T21:46:38.130917Z"
        },
        "trusted": true,
        "id": "72dwKzRjeaO8"
      },
      "execution_count": 299,
      "outputs": []
    },
    {
      "cell_type": "code",
      "source": [
        "grid_search.fit(x_train,y_train)"
      ],
      "metadata": {
        "execution": {
          "iopub.status.busy": "2022-11-13T21:46:38.133123Z",
          "iopub.execute_input": "2022-11-13T21:46:38.134192Z",
          "iopub.status.idle": "2022-11-13T21:46:48.158418Z",
          "shell.execute_reply.started": "2022-11-13T21:46:38.134149Z",
          "shell.execute_reply": "2022-11-13T21:46:48.156712Z"
        },
        "trusted": true,
        "id": "VzMW3kRmeaO8",
        "outputId": "ee8420cd-dde0-418b-c832-9a496c207094",
        "colab": {
          "base_uri": "https://localhost:8080/"
        }
      },
      "execution_count": 300,
      "outputs": [
        {
          "output_type": "execute_result",
          "data": {
            "text/plain": [
              "GridSearchCV(cv=10,\n",
              "             estimator=Pipeline(steps=[('preprocessor',\n",
              "                                        ColumnTransformer(transformers=[('categorical',\n",
              "                                                                         Pipeline(steps=[('onehot',\n",
              "                                                                                          OneHotEncoder(handle_unknown='ignore')),\n",
              "                                                                                         ('imputation_most_frequent',\n",
              "                                                                                          SimpleImputer(strategy='most_frequent'))]),\n",
              "                                                                         Index(['MSZoning', 'Street', 'LotShape', 'LandContour', 'Utilities',\n",
              "       'LotConfig', 'LandSlope', 'Neighborhood', 'C...\n",
              "                                                                                         ('function_transform',\n",
              "                                                                                          PowerTransformer())]),\n",
              "                                                                         ['YearRemodAdd',\n",
              "                                                                          'MasVnrArea',\n",
              "                                                                          'TotalBsmtSF',\n",
              "                                                                          'GrLivArea',\n",
              "                                                                          'GarageYrBlt',\n",
              "                                                                          'YearRetained'])])),\n",
              "                                       ('classifier',\n",
              "                                        RandomForestRegressor())]),\n",
              "             n_jobs=-1,\n",
              "             param_grid={'classifier__max_depth': [10, 20, 40, None],\n",
              "                         'classifier__min_samples_leaf': [1, 2],\n",
              "                         'classifier__min_samples_split': [2, 5, 10],\n",
              "                         'classifier__n_estimators': [50, 100, 200]},\n",
              "             scoring='r2')"
            ]
          },
          "metadata": {},
          "execution_count": 300
        }
      ]
    },
    {
      "cell_type": "code",
      "source": [
        "grid_search.best_score_"
      ],
      "metadata": {
        "execution": {
          "iopub.status.busy": "2022-11-13T21:46:48.159548Z",
          "iopub.status.idle": "2022-11-13T21:46:48.159941Z",
          "shell.execute_reply.started": "2022-11-13T21:46:48.159746Z",
          "shell.execute_reply": "2022-11-13T21:46:48.159764Z"
        },
        "trusted": true,
        "id": "7xrCTMTEeaO9",
        "colab": {
          "base_uri": "https://localhost:8080/"
        },
        "outputId": "bbae6db9-58c7-4509-a84b-e79db8d2441f"
      },
      "execution_count": 301,
      "outputs": [
        {
          "output_type": "execute_result",
          "data": {
            "text/plain": [
              "0.8582387881320725"
            ]
          },
          "metadata": {},
          "execution_count": 301
        }
      ]
    },
    {
      "cell_type": "code",
      "source": [
        "grid_search.best_params_"
      ],
      "metadata": {
        "execution": {
          "iopub.status.busy": "2022-11-13T21:46:48.162143Z",
          "iopub.status.idle": "2022-11-13T21:46:48.162770Z",
          "shell.execute_reply.started": "2022-11-13T21:46:48.162431Z",
          "shell.execute_reply": "2022-11-13T21:46:48.162459Z"
        },
        "trusted": true,
        "id": "WUIt413neaO9",
        "colab": {
          "base_uri": "https://localhost:8080/"
        },
        "outputId": "a73c639a-c10e-4e36-e1fd-33cf64905345"
      },
      "execution_count": 302,
      "outputs": [
        {
          "output_type": "execute_result",
          "data": {
            "text/plain": [
              "{'classifier__max_depth': 40,\n",
              " 'classifier__min_samples_leaf': 2,\n",
              " 'classifier__min_samples_split': 5,\n",
              " 'classifier__n_estimators': 50}"
            ]
          },
          "metadata": {},
          "execution_count": 302
        }
      ]
    },
    {
      "cell_type": "code",
      "source": [
        "y_pred = grid_search.predict(x_test)"
      ],
      "metadata": {
        "execution": {
          "iopub.status.busy": "2022-11-13T21:46:48.164570Z",
          "iopub.status.idle": "2022-11-13T21:46:48.165816Z",
          "shell.execute_reply.started": "2022-11-13T21:46:48.165463Z",
          "shell.execute_reply": "2022-11-13T21:46:48.165520Z"
        },
        "trusted": true,
        "id": "1HbgqITdeaO9"
      },
      "execution_count": 303,
      "outputs": []
    },
    {
      "cell_type": "code",
      "source": [
        "r2_score(y_test,y_pred)"
      ],
      "metadata": {
        "execution": {
          "iopub.status.busy": "2022-11-13T21:46:48.167220Z",
          "iopub.status.idle": "2022-11-13T21:46:48.168238Z",
          "shell.execute_reply.started": "2022-11-13T21:46:48.168016Z",
          "shell.execute_reply": "2022-11-13T21:46:48.168040Z"
        },
        "trusted": true,
        "id": "YMnTS7sAeaO9",
        "colab": {
          "base_uri": "https://localhost:8080/"
        },
        "outputId": "6f32a442-afc2-4d35-a516-2fcaabe2f4c6"
      },
      "execution_count": 304,
      "outputs": [
        {
          "output_type": "execute_result",
          "data": {
            "text/plain": [
              "0.8549143059831961"
            ]
          },
          "metadata": {},
          "execution_count": 304
        }
      ]
    },
    {
      "cell_type": "markdown",
      "source": [
        "##Conclusion\n",
        "\n",
        "I could have got an even better result had I had more data at my disposal, here I had only 1000 examples for my machine learning algorithm to learn something significant. Also, since hyperparameter tuning was taking a lot of time, I reduced the number of hyperparamaters as well as the number of values in each hyperparameter. Had I had a better machine, I could have done better hyperparameter tuning as well."
      ],
      "metadata": {
        "id": "c80zunkOk0ir"
      }
    },
    {
      "cell_type": "code",
      "source": [],
      "metadata": {
        "id": "EWPC9AP-wocQ"
      },
      "execution_count": null,
      "outputs": []
    }
  ]
}